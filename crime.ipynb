{
 "cells": [
  {
   "cell_type": "markdown",
   "metadata": {},
   "source": [
    "# Crime prediction"
   ]
  },
  {
   "cell_type": "markdown",
   "metadata": {},
   "source": [
    "# Decision tree"
   ]
  },
  {
   "cell_type": "code",
   "execution_count": 77,
   "metadata": {},
   "outputs": [],
   "source": [
    "from sklearn.tree import DecisionTreeClassifier\n",
    "import matplotlib.pyplot as plt\n",
    "import pandas as pd\n",
    "import numpy as np\n",
    "df=pd.read_csv('communities-crime-clean.csv')\n",
    "df['highCrime'] = np.where(df['ViolentCrimesPerPop']>0.1, 1, 0)"
   ]
  },
  {
   "cell_type": "code",
   "execution_count": 78,
   "metadata": {},
   "outputs": [
    {
     "name": "stdout",
     "output_type": "stream",
     "text": [
      "positive instance percentage is  0.6271951831409934\n",
      "negative instance percentage is  0.37280481685900657\n"
     ]
    }
   ],
   "source": [
    "pos=df[(df['highCrime'] == 1)]\n",
    "pos_percentage=len(pos)/len(df)\n",
    "neg_percentage=1-pos_percentage\n",
    "print('positive instance percentage is ',pos_percentage)\n",
    "print('negative instance percentage is ',neg_percentage)"
   ]
  },
  {
   "cell_type": "code",
   "execution_count": 79,
   "metadata": {},
   "outputs": [],
   "source": [
    "from sklearn.model_selection import cross_val_score\n",
    "from sklearn import tree\n",
    "initial=pd.read_csv('communities-crime-clean.csv')\n",
    "initial = initial.drop('communityname', 1)\n",
    "initial = initial.drop('ViolentCrimesPerPop', 1)\n",
    "initial = initial.drop('fold', 1)\n",
    "\n",
    "initial = initial.drop('state', 1)\n",
    "Y = df['highCrime']\n",
    "clf = tree.DecisionTreeClassifier(max_depth=3)\n",
    "# clf = tree.DecisionTreeClassifier()\n",
    "clf = clf.fit(initial, Y)\n",
    "clf\n",
    "y_pred = clf.predict(initial)\n",
    "list(initial)\n",
    "feature_name=list(initial)\n"
   ]
  },
  {
   "cell_type": "code",
   "execution_count": 80,
   "metadata": {},
   "outputs": [
    {
     "name": "stdout",
     "output_type": "stream",
     "text": [
      "cross_val_accuracy is  [0.79       0.875      0.83       0.84924623 0.65326633 0.75879397\n",
      " 0.84924623 0.7839196  0.79396985 0.79899497]\n",
      "cross_val_accuracy_avg is  0.7982437185929648\n",
      "cross_val_precision is  [0.78231293 0.85211268 0.84210526 0.88       0.75454545 0.88118812\n",
      " 0.85185185 0.94565217 0.79166667 0.85123967]\n",
      "cross_val_precision_avg is  0.8432674799594686\n",
      "cross_val_recall is  [0.92  0.968 0.896 0.88  0.664 0.712 0.92  0.696 0.912 0.824]\n",
      "cross_val_recall_avg is  0.8392\n"
     ]
    }
   ],
   "source": [
    "from sklearn.model_selection import cross_val_score\n",
    "fold=df['fold']\n",
    "scores = cross_val_score(clf, initial, Y,fold,'accuracy',10)\n",
    "print('cross_val_accuracy is ',scores) \n",
    "print('cross_val_accuracy_avg is ',np.array(scores).mean()) \n",
    "scores = cross_val_score(clf, initial, Y,fold,'precision',10)\n",
    "print('cross_val_precision is ',scores) \n",
    "print('cross_val_precision_avg is ',np.array(scores).mean()) \n",
    "scores = cross_val_score(clf, initial, Y,fold,'recall',10)\n",
    "print('cross_val_recall is ',scores) \n",
    "print('cross_val_recall_avg is ',np.array(scores).mean()) "
   ]
  },
  {
   "cell_type": "code",
   "execution_count": 81,
   "metadata": {},
   "outputs": [
    {
     "name": "stdout",
     "output_type": "stream",
     "text": [
      "Accuracy is 83.59257400903161\n",
      "Precesion is 90.02601908065915\n",
      "Recall is 83.04\n"
     ]
    }
   ],
   "source": [
    "from sklearn.metrics import accuracy_score\n",
    "print ('Accuracy is', accuracy_score(Y,y_pred)*100)\n",
    "from sklearn.metrics import precision_score\n",
    "print ('Precesion is', precision_score(Y,y_pred)*100)\n",
    "from sklearn.metrics import recall_score\n",
    "print ('Recall is', recall_score(Y,y_pred)*100)"
   ]
  },
  {
   "cell_type": "code",
   "execution_count": 82,
   "metadata": {},
   "outputs": [
    {
     "data": {
      "image/png": "[encoded data removed]",
      "text/plain": [
       "<matplotlib.figure.Figure at 0x269712fb908>"
      ]
     },
     "metadata": {},
     "output_type": "display_data"
    },
    {
     "name": "stdout",
     "output_type": "stream",
     "text": [
      " [0.7611130653266331, 0.7756934673366834, 0.7982437185929648, 0.7892412060301508, 0.7746683417085427, 0.7716457286432161, 0.768640703517588, 0.7510854271356784, 0.7380452261306533, 0.7300175879396985, 0.7370301507537689, 0.7325201005025125, 0.7345276381909549, 0.7385326633165828, 0.7269899497487438]\n"
     ]
    }
   ],
   "source": [
    "y=[]\n",
    "x=[]\n",
    "for i in range (1,16):\n",
    "    clf = tree.DecisionTreeClassifier(max_depth=i)\n",
    "    clf = clf.fit(initial, Y)\n",
    "    y_pred = clf.predict(initial)\n",
    "    scores = cross_val_score(clf, initial, Y,None,'accuracy',cv=10)\n",
    "    y.append(np.array(scores).mean())\n",
    "    x.append(i)\n",
    "\n",
    "    \n",
    "plt.plot(x, y)\n",
    "\n",
    "plt.show()\n",
    "\n",
    "print('',y)"
   ]
  },
  {
   "cell_type": "markdown",
   "metadata": {},
   "source": [
    "According to the plot above, we can get the best number of max_depth feeding in DecisionTreeClassifier. With the increasing number of max_depth, the mean of cross_val_score_accuracy keeps growing up and then starts to decline on number 3.\n",
    "Therefore, max_depth =3 in DecisionTreeClassifier can get the best performance to analyze the dataset.\n",
    "We pick at most four biggest information gain in feature_importances array, which is used gini method to calculate and then get four features shown below."
   ]
  },
  {
   "cell_type": "code",
   "execution_count": 83,
   "metadata": {},
   "outputs": [
    {
     "name": "stdout",
     "output_type": "stream",
     "text": [
      "ind is  [29  5 44  3]\n",
      "4_max_normalized_feature is  [0.01873911 0.04512009 0.36682698 0.08753353]\n",
      "29\n",
      "feature_name[index] is  PctLess9thGrade\n",
      "5\n",
      "feature_name[index] is  racePctHisp\n",
      "44\n",
      "feature_name[index] is  PctKids2Par\n",
      "3\n",
      "feature_name[index] is  racePctWhite\n"
     ]
    }
   ],
   "source": [
    "feature_selection = clf.feature_importances_ \n",
    "   \n",
    "\n",
    "ind = np.argpartition(feature_selection, -4)[-4:]\n",
    "\n",
    "print('ind is ',ind)\n",
    "print('4_max_normalized_feature is ',feature_selection[ind])\n",
    "\n",
    "for x in range(0, len(ind)):\n",
    "    index=ind[x]\n",
    "    print(index)\n",
    "    print('feature_name[index] is ',feature_name[index])"
   ]
  },
  {
   "cell_type": "markdown",
   "metadata": {},
   "source": [
    "Because cross-validation requires that we train on a reduced size dataset and then test on data we did not train against the average accuracy, precision and recall scores drop compared with the full dataset train and test."
   ]
  },
  {
   "cell_type": "markdown",
   "metadata": {},
   "source": [
    "# NaiveBayes-Gaussian"
   ]
  },
  {
   "cell_type": "code",
   "execution_count": 84,
   "metadata": {},
   "outputs": [
    {
     "name": "stdout",
     "output_type": "stream",
     "text": [
      "mislabel num is  442\n",
      "ind is  [38 44 45 41 15 46 50  3 43 40]\n",
      "10_max_normalized_feature is  [0.61686366 0.80974842 0.66500857 0.67464461 0.66107643 0.64294945\n",
      " 0.70926105 0.73522995 0.74554481 0.69397809]\n",
      "38\n",
      "feature_name[index] is  MalePctDivorce\n",
      "44\n",
      "feature_name[index] is  PctKids2Par\n",
      "45\n",
      "feature_name[index] is  PctYoungKids2Par\n",
      "41\n",
      "feature_name[index] is  TotalPctDiv\n",
      "15\n",
      "feature_name[index] is  pctWInvInc\n",
      "46\n",
      "feature_name[index] is  PctTeen2Par\n",
      "50\n",
      "feature_name[index] is  PctIlleg\n",
      "3\n",
      "feature_name[index] is  racePctWhite\n",
      "43\n",
      "feature_name[index] is  PctFam2Par\n",
      "40\n",
      "feature_name[index] is  FemalePctDiv\n",
      "cross_val_accuracy is  [0.775      0.8        0.825      0.79899497 0.70351759 0.65326633\n",
      " 0.81407035 0.73366834 0.71356784 0.79899497]\n",
      "cross_val_accuracy_avg is  0.761608040201005\n",
      "cross_val_precision is  [0.86363636 0.92929293 0.95       0.92079208 0.94594595 0.86842105\n",
      " 0.92307692 1.         0.77868852 0.93814433]\n",
      "cross_val_precision_avg is  0.9117998148278733\n",
      "cross_val_recall is  [0.76  0.736 0.76  0.744 0.56  0.528 0.768 0.576 0.76  0.728]\n",
      "cross_val_recall_avg is  0.692\n"
     ]
    }
   ],
   "source": [
    "from sklearn.naive_bayes import GaussianNB\n",
    "gnb = GaussianNB()\n",
    "y_pred = gnb.fit(initial, Y).predict(initial)\n",
    "\n",
    "print(\"mislabel num is \",(Y != y_pred).sum())\n",
    "\n",
    "# print ('sigma is ',gnb.sigma_)\n",
    "variance=gnb.sigma_\n",
    "stand_deviation =np.sqrt( variance)\n",
    "# print('standard deviation is',stand_deviation);\n",
    "sum_standard=stand_deviation[0]+stand_deviation[1]\n",
    "# print('sum of standard deviation is',sum_standard);\n",
    "\n",
    "# print ('theta is ',gnb.theta_)\n",
    "mean=gnb.theta_\n",
    "difference=mean[0]-mean[1]\n",
    "# print('difference is ',abs(difference))\n",
    "normalized_feature=abs(difference)/sum_standard\n",
    "# print('normalized_feature is ',normalized_feature)\n",
    "\n",
    "\n",
    "ind = np.argpartition(normalized_feature, -10)[-10:]\n",
    "\n",
    "print('ind is ',ind)\n",
    "print('10_max_normalized_feature is ',normalized_feature[ind])\n",
    "\n",
    "for x in range(0, len(ind)):\n",
    "    index=ind[x]\n",
    "    print(index)\n",
    "    print('feature_name[index] is ',feature_name[index])\n",
    "\n",
    "\n",
    "\n",
    "\n",
    "\n",
    "from sklearn.model_selection import cross_val_score\n",
    "fold=df['fold']\n",
    "scores = cross_val_score(gnb, initial, Y,fold,'accuracy',10)\n",
    "print('cross_val_accuracy is ',scores) \n",
    "print('cross_val_accuracy_avg is ',np.array(scores).mean()) \n",
    "scores = cross_val_score(gnb, initial, Y,fold,'precision',10)\n",
    "print('cross_val_precision is ',scores) \n",
    "print('cross_val_precision_avg is ',np.array(scores).mean()) \n",
    "scores = cross_val_score(gnb, initial, Y,fold,'recall',10)\n",
    "print('cross_val_recall is ',scores) \n",
    "print('cross_val_recall_avg is ',np.array(scores).mean()) "
   ]
  },
  {
   "cell_type": "markdown",
   "metadata": {},
   "source": [
    "$\\dfrac{|μ_T-μ_F |}{(σ_T+σ_F )}$, the measure of choosing predictive feature, is derived by Correlation coefficient formula, $\\dfrac{Cov(X,Y)}{σ_Xσ_Y}$. According to the definition of Correlation coefficient, in order to standardlize the covariance which is really sensetive, we need to divide variance to get the indicator of Correlation coefficient between X and Y. Therefore, $\\dfrac{|μ_T-μ_F |}{(σ_T+σ_F )}$,the absolute correlation coefficient , can estimate the strength of the relationship between the attribute and T/F label. If the number is larger, the relationship is stronger. So it can be the criteria to find out predictive feature."
   ]
  },
  {
   "cell_type": "markdown",
   "metadata": {},
   "source": [
    "Naive Bayes on average has worse accuracy and recall than Decision Tree on the dataset.  This is likely due to correlations between features in the dataset that by definition the Naive Bayes classifier assumes are conditionally independent. Interestingly, both find PctKids2Par to be the most predictive feature."
   ]
  },
  {
   "cell_type": "markdown",
   "metadata": {},
   "source": [
    "# LinearSVC"
   ]
  },
  {
   "cell_type": "code",
   "execution_count": 85,
   "metadata": {},
   "outputs": [
    {
     "name": "stdout",
     "output_type": "stream",
     "text": [
      " [0.         0.         0.1548704  0.60525263 0.         0.3072495\n",
      " 0.         0.         0.         0.         0.         0.08595501\n",
      " 0.         0.         0.         0.02761082 0.         0.\n",
      " 0.         0.         0.         0.         0.         0.\n",
      " 0.         0.         0.         0.         0.         0.\n",
      " 0.         0.         0.         0.         0.         0.\n",
      " 0.         0.         0.         0.         0.07959272 1.46807493\n",
      " 0.         0.         0.5808796  0.         0.         0.\n",
      " 0.         0.         0.30129723 0.         0.         0.\n",
      " 0.         0.         0.         0.         0.         0.\n",
      " 0.         0.         0.         0.         0.         0.\n",
      " 0.         0.         0.15539288 0.10508056 0.         0.\n",
      " 0.         0.         0.         0.         0.         0.\n",
      " 0.         0.         0.         0.         0.         0.\n",
      " 0.         0.         0.15714765 0.         0.         0.\n",
      " 0.         0.         0.         0.         0.         0.\n",
      " 0.         0.         0.         0.        ]\n",
      "select_feature_is  racepctblack  feature_weight is  0.15487039793610613\n",
      "select_feature_is  racePctWhite  feature_weight is  0.6052526252977006\n",
      "select_feature_is  racePctHisp  feature_weight is  0.3072494953139221\n",
      "select_feature_is  pctUrban  feature_weight is  0.0859550093194337\n",
      "select_feature_is  pctWInvInc  feature_weight is  0.027610818917958264\n",
      "select_feature_is  FemalePctDiv  feature_weight is  0.07959271573302389\n",
      "select_feature_is  TotalPctDiv  feature_weight is  1.4680749333151473\n",
      "select_feature_is  PctKids2Par  feature_weight is  0.5808795989353263\n",
      "select_feature_is  PctIlleg  feature_weight is  0.3012972256544571\n",
      "select_feature_is  PctPersDenseHous  feature_weight is  0.15539288043455737\n",
      "select_feature_is  PctHousLess3BR  feature_weight is  0.10508056410499894\n",
      "select_feature_is  MedRentPctHousInc  feature_weight is  0.1571476527027216\n",
      "cross_val_accuracy is  [0.78       0.875      0.87       0.85929648 0.73366834 0.69849246\n",
      " 0.76884422 0.85427136 0.83417085 0.79899497]\n",
      "cross_val_accuracy_avg is  0.8072738693467336\n",
      "cross_val_precision is  [0.76129032 0.85211268 0.88372093 0.88188976 0.90909091 0.82524272\n",
      " 0.78169014 0.96153846 0.81506849 0.81021898]\n",
      "cross_val_precision_avg is  0.8481863393822987\n",
      "cross_val_recall is  [0.952 0.968 0.904 0.904 0.64  0.696 0.88  0.8   0.952 0.888]\n",
      "cross_val_recall_avg is  0.8583999999999999\n"
     ]
    }
   ],
   "source": [
    "from sklearn import svm\n",
    "lin_svc = svm.LinearSVC(C=0.01447, penalty=\"l1\", dual=False).fit(initial, Y)\n",
    "# using L1-norm (sparsity method) to make unless feature weight become 0 , C value increase->more complex model having more weight\n",
    "feature_weight=abs(lin_svc.coef_[0])\n",
    "print(\"\",feature_weight)\n",
    "for i in range(0,len(feature_weight)):\n",
    "    if(feature_weight[i]!=0):\n",
    "        print('select_feature_is ',feature_name[i], ' feature_weight is ', feature_weight[i])\n",
    "\n",
    "\n",
    "\n",
    "from sklearn.model_selection import cross_val_score\n",
    "fold=df['fold']\n",
    "scores = cross_val_score(lin_svc, initial, Y,fold,'accuracy',10)\n",
    "print('cross_val_accuracy is ',scores) \n",
    "print('cross_val_accuracy_avg is ',np.array(scores).mean()) \n",
    "scores = cross_val_score(lin_svc, initial, Y,fold,'precision',10)\n",
    "print('cross_val_precision is ',scores) \n",
    "print('cross_val_precision_avg is ',np.array(scores).mean()) \n",
    "scores = cross_val_score(lin_svc, initial, Y,fold,'recall',10)\n",
    "print('cross_val_recall is ',scores) \n",
    "print('cross_val_recall_avg is ',np.array(scores).mean())  "
   ]
  },
  {
   "cell_type": "markdown",
   "metadata": {},
   "source": [
    "In this method of estimating predictive features, we use L1-norm to be a penalty in LinearSVC. L1 is known as least absolute errors to compute the penalty value to be used for adjusting the model. It has a sparsity property that reduces the coeficients for features that are not predictive to zero removing them from the model adjustment calculations. \n",
    "\n",
    "The Penalty value, C, represents the degree of model complexity. We tuned C to a low value to pick out at most 11 predictive features. This can be achieved because the L1 model is more likely to reduce coefficients of features to zero when a lower C value is set. racePctWhite, racePctHisp, PctKids2Par, PctIlleg, FemalePctDiv and TotalPctDiv are all consistent features with the previous models. PctPersDenseHous, pctWPubAsst, racepctblack and pctUrban have not been predictive in previous models but they also have low coefficients in the LinearSVC model, so they choices of these features by the model is somewhat arbitrary as they will only contribute slight adjustments to the model to correct for errors.\n",
    "\n",
    "In comparison with DecisionTree, LinearSVC improves accuracy, precision and recall for this dataset. This could be explained by the fact that LinearSVC is able to find an optimal linear sepparating hyperplane for the dataset, while Decision Tree is only able to use axis alligned planes to splint in a heirarchical fashion to split the dataset. Interestingly LinearSVC has a different most predictive feature than the previous models, TotalPctDiv. PctKids2Par is the second most predictive feature for LinearSVC, so it still maintains high importance. This likely means that TotalPctDiv is more effective as a linear sepparator with non-axis aligned planes."
   ]
  },
  {
   "cell_type": "markdown",
   "metadata": {},
   "source": [
    "# Linear Regression"
   ]
  },
  {
   "cell_type": "code",
   "execution_count": 86,
   "metadata": {},
   "outputs": [
    {
     "name": "stdout",
     "output_type": "stream",
     "text": [
      "10_fold_cv_MSE is  0.020102698466732367\n",
      "MSE on training set is  0.016516774880307176\n",
      "min is  -0.6756944788028626\n",
      "67\n",
      "max is  0.6350881164986124\n",
      "64\n",
      "coefficient[min] is  PctPersOwnOccup\n",
      "coefficient[max] is  PersPerOccupHous\n"
     ]
    }
   ],
   "source": [
    "from sklearn import linear_model\n",
    "from sklearn.metrics import mean_squared_error\n",
    "from sklearn.model_selection import cross_val_predict\n",
    "\n",
    "lr = linear_model.LinearRegression(normalize=True)\n",
    "Y = df['ViolentCrimesPerPop']\n",
    "predicted = cross_val_predict(lr, initial, Y, cv=10)\n",
    "print('10_fold_cv_MSE is ',mean_squared_error(Y, predicted))\n",
    "y_pred = lr.fit(initial, Y).predict(initial)\n",
    "\n",
    "print('MSE on training set is ',mean_squared_error(Y, y_pred))\n",
    "\n",
    "# print('coef is ',lr.coef_)\n",
    "\n",
    "min=np.min(lr.coef_)\n",
    "print('min is ',min)\n",
    "index_min = np.argmin(lr.coef_)\n",
    "print(index_min)\n",
    "max=np.max(lr.coef_)\n",
    "print('max is ',max)\n",
    "index_max = np.argmax(lr.coef_)\n",
    "print(index_max)\n",
    "print('coefficient[min] is ',feature_name[index_min])\n",
    "\n",
    "print('coefficient[max] is ',feature_name[index_max])"
   ]
  },
  {
   "cell_type": "markdown",
   "metadata": {
    "collapsed": true
   },
   "source": [
    "# Ridge Regression"
   ]
  },
  {
   "cell_type": "code",
   "execution_count": 87,
   "metadata": {
    "scrolled": true
   },
   "outputs": [
    {
     "name": "stdout",
     "output_type": "stream",
     "text": [
      "RidgeCV(alphas=[10.0, 1.0, 0.1, 0.01, 0.001], cv=None, fit_intercept=True,\n",
      "    gcv_mode=None, normalize=False, scoring=None, store_cv_values=False)\n",
      "Best Alpha:  1.0\n",
      "[0.15629536 0.29723509 0.52328122 ... 0.09344901 0.16300833 0.16714695]\n",
      "0.23708242110387373\n",
      "10_fold_cv_MSE is:  0.01980395252878098\n",
      "Mean Square Error on training set:  0.016763529155169456\n"
     ]
    }
   ],
   "source": [
    "from sklearn.linear_model import Ridge\n",
    "from sklearn.linear_model import RidgeCV\n",
    "# Using RidgeCV to reduce the amount of verfitting\n",
    "ridge_model = RidgeCV(alphas=[10.0,1.0,0.1, 0.01, 0.001])\n",
    "print(ridge_model)\n",
    "ridge_reg_score = cross_val_predict(ridge_model, initial, Y, cv=10)\n",
    "ridge_fit = ridge_model.fit(initial, Y)\n",
    "#To get the best alpha\n",
    "print('Best Alpha: ', ridge_model.alpha_)\n",
    "ridge_predict = ridge_model.predict(initial)\n",
    "#accuracy of each Fold\n",
    "print(ridge_reg_score)\n",
    "#mean accuracy of 10 Folds\n",
    "print(ridge_reg_score.mean())\n",
    "\n",
    "#MSE 10 Fold CV\n",
    "print('10_fold_cv_MSE is: ',mean_squared_error(Y, ridge_reg_score))\n",
    "\n",
    "#MSE on the Training set\n",
    "mse_ridge = np.mean((ridge_predict - Y) ** 2)\n",
    "print (\"Mean Square Error on training set: \", mse_ridge)"
   ]
  },
  {
   "cell_type": "markdown",
   "metadata": {},
   "source": [
    "For this problem there is clearly some overfitting on linear regression when compared with ridge regression since the MSE of ridge regression is worse than linear regression but the CV-MSE of ridge regression is better than that of linear regression. The inability for linear regression to drop feature coefficients to zero in the formula clearly has some effect on the method against this dataset."
   ]
  },
  {
   "cell_type": "markdown",
   "metadata": {},
   "source": [
    "# Polynomial Regression"
   ]
  },
  {
   "cell_type": "code",
   "execution_count": 88,
   "metadata": {},
   "outputs": [
    {
     "name": "stdout",
     "output_type": "stream",
     "text": [
      "PolynomialFeatures(degree=2, include_bias=True, interaction_only=False)\n",
      "[ 0.54690467  0.53204046  0.32259686 ... -0.19221259  0.17285804\n",
      "  0.40108523]\n",
      "0.23572158004264598\n",
      "10_fold_cv_MSE is  0.1299550941964072\n",
      "Mean Square Error on training set:  9.373499768284143e-29\n"
     ]
    }
   ],
   "source": [
    "from sklearn.preprocessing import *\n",
    "from sklearn.pipeline import Pipeline\n",
    "from sklearn.linear_model import LinearRegression\n",
    "\n",
    "pol = PolynomialFeatures(degree = 2)\n",
    "print(pol)\n",
    "\n",
    "lin_reg = LinearRegression()\n",
    "pip = Pipeline([(\"polynomial Feature\", pol),(\"linear_Regression\", lin_reg)])\n",
    "poly_reg_score = cross_val_predict(pip, initial, Y, cv=10)\n",
    "p_fit = pip.fit(initial, Y)\n",
    "p_predict = pip.predict(initial)\n",
    "#accuracy of each fold\n",
    "print(poly_reg_score)\n",
    "#mean accuracy of 10 Folds\n",
    "print(poly_reg_score.mean())\n",
    "\n",
    "#MSE 10 Fold CV\n",
    "print('10_fold_cv_MSE is ',mean_squared_error(Y, poly_reg_score))\n",
    "\n",
    "#MSE on Training Set\n",
    "mse_poly = np.mean((p_predict - Y) ** 2)\n",
    "print (\"Mean Square Error on training set: \", mse_poly)"
   ]
  },
  {
   "cell_type": "markdown",
   "metadata": {},
   "source": [
    "The linear model significantly outperforms the quadratic model for this dataset. The true model of the dataset is much more likely to be on the order of linear than quadratic."
   ]
  },
  {
   "cell_type": "markdown",
   "metadata": {},
   "source": [
    "# Dirty Data"
   ]
  },
  {
   "cell_type": "code",
   "execution_count": 89,
   "metadata": {},
   "outputs": [
    {
     "name": "stderr",
     "output_type": "stream",
     "text": [
      "C:\\Users\\Lenovo\\Anaconda3\\lib\\site-packages\\ipykernel_launcher.py:16: FutureWarning: convert_objects is deprecated.  To re-infer data dtypes for object columns, use DataFrame.infer_objects()\n",
      "For all other conversions use the data-type specific converters pd.to_datetime, pd.to_timedelta and pd.to_numeric.\n",
      "  app.launch_new_instance()\n"
     ]
    },
    {
     "name": "stdout",
     "output_type": "stream",
     "text": [
      "cross_val_accuracy is  [0.81094527 0.81       0.805      0.79899497 0.82914573 0.77386935\n",
      " 0.85427136 0.83417085 0.80904523 0.8040201 ]\n",
      "cross_val_accuracy_avg is  0.8129462861571539\n",
      "cross_val_precision is  [0.90740741 0.85365854 0.84677419 0.84       0.85826772 0.85714286\n",
      " 0.92105263 0.92592593 0.85950413 0.90566038]\n",
      "cross_val_precision_avg is  0.877539377831422\n",
      "cross_val_recall is  [0.77777778 0.84       0.84       0.84       0.872      0.768\n",
      " 0.84       0.8        0.832      0.768     ]\n",
      "cross_val_recall_avg is  0.8177777777777777\n"
     ]
    }
   ],
   "source": [
    "df=pd.read_csv('communities-crime-full.csv')\n",
    "df\n",
    "df['highCrime'] = np.where(df['ViolentCrimesPerPop']>0.1, 1, 0)\n",
    "Y = df['highCrime']\n",
    "\n",
    "# print('total len is ',len(Y))\n",
    "initial=pd.read_csv('communities-crime-full.csv')\n",
    "initial = initial.drop('communityname', 1)\n",
    "initial = initial.drop('ViolentCrimesPerPop', 1)\n",
    "initial = initial.drop('fold', 1)\n",
    "initial = initial.drop('state', 1)\n",
    "initial = initial.drop('community', 1)\n",
    "initial = initial.drop('county', 1)\n",
    "\n",
    "feature_name=list(initial)\n",
    "initial=initial.convert_objects(convert_numeric=True)\n",
    "New_data=initial.fillna(initial.mean())\n",
    "# print('before...')\n",
    "# print(initial)\n",
    "# print('after...')\n",
    "# print(New_data)  \n",
    "clf = tree.DecisionTreeClassifier(max_depth=3)\n",
    "# clf = tree.DecisionTreeClassifier()\n",
    "clf = clf.fit(New_data, Y)\n",
    "clf\n",
    "fold=df['fold']\n",
    "scores = cross_val_score(clf, New_data, Y,fold,'accuracy',10)\n",
    "print('cross_val_accuracy is ',scores) \n",
    "print('cross_val_accuracy_avg is ',np.array(scores).mean()) \n",
    "scores = cross_val_score(clf, New_data, Y,fold,'precision',10)\n",
    "print('cross_val_precision is ',scores) \n",
    "print('cross_val_precision_avg is ',np.array(scores).mean()) \n",
    "scores = cross_val_score(clf, New_data, Y,fold,'recall',10)\n",
    "print('cross_val_recall is ',scores) \n",
    "print('cross_val_recall_avg is ',np.array(scores).mean()) "
   ]
  },
  {
   "cell_type": "code",
   "execution_count": 90,
   "metadata": {},
   "outputs": [
    {
     "data": {
      "image/png": "[encoded data removed]",
      "text/plain": [
       "<matplotlib.figure.Figure at 0x269711bc668>"
      ]
     },
     "metadata": {},
     "output_type": "display_data"
    },
    {
     "name": "stdout",
     "output_type": "stream",
     "text": [
      "y is  [0.7888608590214756, 0.797373446836171, 0.8129462861571539, 0.8003609590239756, 0.7878208080202005, 0.786305732643316, 0.781805707642691, 0.774303120078002, 0.7742855821395536, 0.7682778944473612, 0.7627452811320283, 0.762272794319858, 0.751237568439211, 0.7597703067576689, 0.7592477686942174]\n"
     ]
    }
   ],
   "source": [
    "y=[]\n",
    "x=[]\n",
    "for i in range (1,16):\n",
    "    clf = tree.DecisionTreeClassifier(max_depth=i)\n",
    "    clf = clf.fit(New_data, Y)\n",
    "    y_pred = clf.predict(New_data)\n",
    "    scores = cross_val_score(clf, New_data, Y,None,'accuracy',cv=10)\n",
    "    y.append(np.array(scores).mean())\n",
    "    x.append(i)\n",
    "\n",
    "    \n",
    "plt.plot(x, y)\n",
    "\n",
    "plt.show()\n",
    "print('y is ',y)"
   ]
  },
  {
   "cell_type": "code",
   "execution_count": 91,
   "metadata": {},
   "outputs": [
    {
     "name": "stdout",
     "output_type": "stream",
     "text": [
      "ind is  [34  5  3 44]\n",
      "4_max_normalized_feature is  [0.02014843 0.04857088 0.08883594 0.36670958]\n",
      "34\n",
      "feature_name[index] is  PctEmplManu\n",
      "5\n",
      "feature_name[index] is  racePctHisp\n",
      "3\n",
      "feature_name[index] is  racePctWhite\n",
      "44\n",
      "feature_name[index] is  PctKids2Par\n"
     ]
    }
   ],
   "source": [
    "feature_selection = clf.feature_importances_ \n",
    "   \n",
    "\n",
    "ind = np.argpartition(feature_selection, -4)[-4:]\n",
    "\n",
    "print('ind is ',ind)\n",
    "print('4_max_normalized_feature is ',feature_selection[ind])\n",
    "\n",
    "for x in range(0, len(ind)):\n",
    "    index=ind[x]\n",
    "    print(index)\n",
    "    print('feature_name[index] is ',feature_name[index])"
   ]
  },
  {
   "cell_type": "markdown",
   "metadata": {},
   "source": [
    "The CV result between clean data and full data with the same parameters results in slightly improved accuracy. This might be explained by missing values being replaced by mean of their respective columns. This reduction of the overall variance of the dataset could be improving performance. The most predictive features remain the same so the dirty features being available to split on cannot be the explanation."
   ]
  },
  {
   "cell_type": "markdown",
   "metadata": {},
   "source": [
    "# PCA&K-NN"
   ]
  },
  {
   "cell_type": "code",
   "execution_count": 92,
   "metadata": {},
   "outputs": [
    {
     "data": {
      "image/png": "[encoded data removed]",
      "text/plain": [
       "<matplotlib.figure.Figure at 0x26970c0ef60>"
      ]
     },
     "metadata": {},
     "output_type": "display_data"
    }
   ],
   "source": [
    "from sklearn.decomposition import PCA\n",
    "from sklearn.neighbors import KNeighborsClassifier\n",
    "\n",
    "df=pd.read_csv('communities-crime-clean.csv')\n",
    "df['highCrime'] = np.where(df['ViolentCrimesPerPop']>0.1, 1, 0)\n",
    "initial=pd.read_csv('communities-crime-clean.csv')\n",
    "Y = df['highCrime']\n",
    "fold=df['fold']\n",
    "state=df['state']\n",
    "community=df['communityname']\n",
    "initial = initial.drop('fold', 1)\n",
    "initial = initial.drop('state', 1)\n",
    "initial = initial.drop('communityname', 1)\n",
    "initial = initial.drop('ViolentCrimesPerPop', 1)\n",
    "\n",
    "x=[]\n",
    "y=[]\n",
    "for k in range (1,16):\n",
    "    y.append([])\n",
    "for i in range (2,15):\n",
    "    pca = PCA(n_components=i)\n",
    "    pca.fit(initial)\n",
    "    pcdf = pca.transform(initial)\n",
    "    for j in range (1,16):\n",
    "        knn = KNeighborsClassifier(j)\n",
    "        knn.fit(pcdf,Y)\n",
    "        scores = cross_val_score(knn,pcdf,Y,fold,'accuracy',10)\n",
    "        y[j-1].append(np.mean(scores))\n",
    "    x.append(i)\n",
    "\n",
    "plt.plot(x,y[0],'r-',\n",
    "         x,y[1],'g-',\n",
    "         x,y[2],'b-',\n",
    "         x,y[3],'r--',\n",
    "         x,y[4],'g--',\n",
    "         x,y[5],'b--',\n",
    "         x,y[6],'r-.',\n",
    "         x,y[7],'g-.',\n",
    "         x,y[8],'b-.',\n",
    "         x,y[9],'r:',\n",
    "         x,y[10],'g:',\n",
    "         x,y[11],'b:',\n",
    "         x,y[12],'c-',\n",
    "         x,y[13],'m-',\n",
    "         x,y[14],'y-')\n",
    "plt.show()"
   ]
  },
  {
   "cell_type": "markdown",
   "metadata": {},
   "source": [
    "<ul>\n",
    "<li>X-axis is number of components</li>\n",
    "<li>Y-axis is accuracy\n",
    "<ul>\n",
    "<li>Red-solid-line is k=1</li>\n",
    "<li>Green-solid-line is k=2</li>\n",
    "<li>Blue-solid-line is k=3</li>\n",
    "<li>Red-dashed-line is k=4</li>\n",
    "<li>Green-dashed-line is k=5</li>\n",
    "<li>Blue-dashed-line is k=6</li>\n",
    "<li>Red-dash-dot-line is k=7</li>\n",
    "<li>Green-dash-dot-line is k=8</li>\n",
    "<li>Blue-dash-dot-line is k=9</li>\n",
    "<li>Red-dotted-line is k=10</li>\n",
    "<li>Green-dotted-line is k=11</li>\n",
    "<li>Blue-dotted-line is k=12</li>\n",
    "<li>Cyan-solid-line is k=13</li>\n",
    "<li>Magenta-solid-line is k=14</li>\n",
    "<li>Yellow-solid-line is k=15</li>\n",
    "</ul></li>\n",
    "</ul>\n",
    "\n",
    "Blue dotted line has best performance at n-components=5 meaning k=12"
   ]
  },
  {
   "cell_type": "code",
   "execution_count": 93,
   "metadata": {},
   "outputs": [
    {
     "data": {
      "text/plain": [
       "array([[-2.04052546e-02,  9.75132690e-03, -1.28371329e-01,\n",
       "         1.23044608e-01,  6.52084194e-02, -6.14280591e-02,\n",
       "        -4.72820587e-02, -4.60121765e-02, -4.71777648e-02,\n",
       "        -3.46626378e-02, -1.56537431e-02,  1.52570830e-01,\n",
       "         1.88492101e-01,  1.03286139e-01, -7.18548440e-03,\n",
       "         1.48691465e-01, -6.12543207e-02, -1.73401439e-01,\n",
       "         4.48956257e-03,  1.79662679e-01,  1.61193740e-01,\n",
       "         1.40327609e-01,  1.07194806e-01,  4.39239209e-02,\n",
       "         8.19922061e-02,  7.74816512e-02,  1.13058167e-01,\n",
       "        -3.97531389e-02, -1.91357751e-01, -1.50661446e-01,\n",
       "        -1.59431939e-01,  1.42844505e-01, -1.52692314e-01,\n",
       "         1.10214847e-01, -2.33208904e-02,  1.61083945e-02,\n",
       "        -1.34972468e-01,  1.35500286e-01, -1.06437345e-01,\n",
       "        -4.01754009e-02, -1.01677202e-01, -1.09737150e-01,\n",
       "        -1.29668589e-02,  1.62749424e-01,  1.68736871e-01,\n",
       "         1.78676474e-01,  1.33751535e-01, -1.18987095e-02,\n",
       "         1.12613743e-02, -3.11151955e-02, -1.50870947e-01,\n",
       "        -6.64631737e-03, -4.14686662e-02, -4.77028848e-02,\n",
       "        -4.49797848e-02, -4.97956803e-02,  6.22271445e-03,\n",
       "         3.61716851e-03,  6.69008024e-03,  4.08774764e-03,\n",
       "         2.16062354e-02, -4.56107809e-02, -6.59365027e-02,\n",
       "        -4.86852812e-02,  2.29232532e-02,  3.67738154e-02,\n",
       "        -4.79458198e-02,  1.22711019e-01, -8.44847108e-02,\n",
       "        -9.64958429e-02,  1.09751354e-01, -3.41640913e-02,\n",
       "         7.40567876e-02,  1.04629295e-01, -1.07733239e-01,\n",
       "        -4.70222532e-02,  4.19420273e-02, -1.99593745e-01,\n",
       "        -1.09298585e-01,  1.61984123e-01,  1.64369571e-01,\n",
       "         1.63985961e-01,  1.67068789e-01,  1.63565391e-01,\n",
       "         1.93204244e-01,  1.67100994e-01, -4.34843126e-02,\n",
       "         5.72625982e-02, -1.60733392e-02, -1.90625776e-02,\n",
       "        -1.34111688e-02,  2.94298202e-02, -4.96684542e-02,\n",
       "         3.38877946e-02, -1.86070060e-02, -2.20883944e-02,\n",
       "        -8.86291687e-03, -1.40120126e-02,  3.93038079e-02,\n",
       "        -4.30436520e-02],\n",
       "       [ 4.65107143e-02,  7.31007190e-02,  2.97025733e-02,\n",
       "        -1.58534468e-01,  1.59178377e-01,  1.90141431e-01,\n",
       "         1.83388364e-02,  4.98339305e-02,  3.60912415e-02,\n",
       "        -6.85006568e-02,  5.03646766e-02,  1.79413485e-01,\n",
       "         3.49315055e-02,  4.75614065e-02, -2.98432226e-02,\n",
       "        -3.88640765e-02, -7.24146284e-02,  6.26498274e-02,\n",
       "        -6.90031511e-02,  2.64331353e-02,  2.15127910e-02,\n",
       "         3.98709889e-02,  3.11563777e-02,  1.61664886e-02,\n",
       "        -2.11443794e-03,  1.76561650e-02,  1.13249221e-03,\n",
       "         4.44772229e-02,  3.75167294e-02,  5.83546767e-02,\n",
       "         3.54672293e-02,  2.79190895e-02,  5.03081110e-02,\n",
       "         1.69247652e-02, -3.09069782e-02, -1.63984466e-02,\n",
       "        -1.84144383e-02,  9.43444321e-03,  1.66036743e-03,\n",
       "         9.47740644e-02,  3.14749068e-02,  1.73305868e-02,\n",
       "         8.70286054e-02, -3.54616992e-02, -4.70713715e-02,\n",
       "        -2.20965430e-02, -3.80259959e-02, -5.20351884e-02,\n",
       "        -7.29741943e-02,  3.66921355e-02,  9.36376749e-02,\n",
       "         5.51732345e-02,  8.55569626e-02,  9.96086929e-02,\n",
       "         1.07522904e-01,  1.14090535e-01,  2.48913152e-01,\n",
       "         2.53173277e-01,  2.55635505e-01,  2.54071885e-01,\n",
       "        -2.16690578e-01,  2.09656366e-01,  1.49733800e-01,\n",
       "         1.36121701e-01,  7.53719140e-02,  6.65356817e-02,\n",
       "         1.07242118e-01, -1.00592409e-01,  1.87340413e-01,\n",
       "         7.55166956e-02, -1.02483947e-01,  3.81778676e-02,\n",
       "         1.20197054e-02, -8.64467137e-02,  2.59321557e-02,\n",
       "        -7.93014450e-02,  6.71860874e-03, -6.38694259e-03,\n",
       "         5.33376938e-02,  1.24416081e-01,  1.30880632e-01,\n",
       "         1.30976515e-01,  1.14243563e-01,  1.08325561e-01,\n",
       "         1.30358452e-01,  1.00888414e-01,  7.85087111e-02,\n",
       "         1.25190223e-01, -1.14538720e-02,  3.25126269e-02,\n",
       "         3.44237881e-02,  2.41529233e-01, -1.19628987e-01,\n",
       "        -5.53248292e-02, -3.66483591e-02, -5.65180964e-02,\n",
       "         6.84213385e-03,  1.48630105e-01,  1.16127641e-01,\n",
       "         7.84299457e-02],\n",
       "       [-6.88867057e-02,  1.84378243e-01, -1.48539892e-01,\n",
       "         3.24645108e-02, -2.55344997e-02,  1.78205053e-01,\n",
       "         2.47372893e-02, -3.55922551e-02, -5.78614511e-02,\n",
       "        -5.86804770e-02, -7.33692917e-02, -2.23215312e-01,\n",
       "         3.07009108e-02,  3.59936389e-02,  8.68329728e-02,\n",
       "        -4.86515813e-02, -8.52260897e-03,  5.69111154e-02,\n",
       "        -1.75402737e-02, -1.04361115e-02, -7.07669741e-02,\n",
       "        -9.32039344e-02,  1.80356416e-03, -9.24774296e-03,\n",
       "         3.74745425e-03, -1.35761443e-02, -3.41734740e-02,\n",
       "        -6.33391833e-02, -1.85142370e-02,  1.39808416e-01,\n",
       "         1.15570750e-01, -1.35757692e-01,  6.88762488e-02,\n",
       "        -9.40577137e-03,  1.08697745e-01, -1.18418020e-01,\n",
       "         1.20619985e-01, -1.06310891e-01, -1.22333470e-01,\n",
       "        -1.14450259e-01, -1.10821933e-01, -1.22157582e-01,\n",
       "         1.84837286e-01,  1.38075445e-01,  1.14626935e-01,\n",
       "         9.95829784e-02,  1.46309985e-01, -6.88250714e-02,\n",
       "        -8.21941960e-02, -5.48599181e-02, -1.03823499e-01,\n",
       "        -1.36906552e-02, -1.43921797e-01, -1.37061364e-01,\n",
       "        -1.30465198e-01, -1.08800742e-01,  2.67842250e-03,\n",
       "         1.37421400e-02,  2.00639533e-02,  3.06104584e-02,\n",
       "        -1.43209728e-01,  1.39570860e-01,  1.69417149e-01,\n",
       "         1.97454479e-01,  2.25731534e-01,  1.84573941e-01,\n",
       "         1.95254271e-01,  1.33745276e-01,  1.30250021e-01,\n",
       "        -1.12362348e-01,  1.48020780e-01, -1.02540971e-01,\n",
       "         6.65738433e-02,  1.43029382e-01, -1.30006541e-02,\n",
       "         6.17312115e-02,  4.86888561e-02,  3.09150246e-02,\n",
       "         6.83081571e-02, -1.94465253e-02, -2.83618369e-02,\n",
       "        -4.30280366e-02, -2.12406803e-02, -1.49121297e-02,\n",
       "        -1.84716454e-02, -6.43359313e-03, -3.64432467e-02,\n",
       "         1.33429182e-02, -7.05598058e-03, -5.51658881e-02,\n",
       "        -3.87890399e-02,  6.19267098e-02,  9.03999163e-02,\n",
       "         1.08540852e-01,  1.19724506e-01,  1.39962945e-01,\n",
       "        -3.50889107e-02, -5.24427219e-02, -1.10702932e-01,\n",
       "        -1.36254496e-01],\n",
       "       [-3.80659563e-02,  9.39381920e-02, -8.72498321e-02,\n",
       "         4.99208492e-02,  2.77345566e-02,  1.14081535e-02,\n",
       "         1.73810107e-01,  1.63077661e-01,  1.79193121e-01,\n",
       "        -1.78816252e-01, -4.81228632e-02, -3.34288549e-01,\n",
       "        -3.16081043e-02,  1.38364577e-01,  1.75909677e-01,\n",
       "        -1.10614006e-02, -1.70490226e-01, -8.04102131e-02,\n",
       "        -1.44853729e-01, -2.26184238e-02, -5.67523961e-02,\n",
       "        -6.58759811e-02, -4.03184234e-02, -2.28327741e-02,\n",
       "        -7.81584885e-02, -2.68879325e-02, -6.60839656e-02,\n",
       "        -3.98978122e-02,  5.68827704e-02, -6.65450713e-02,\n",
       "        -1.01121908e-01,  9.11635224e-02, -6.33457676e-02,\n",
       "         7.14798197e-02, -7.38018153e-02,  6.15589540e-02,\n",
       "        -5.91537196e-02,  4.01544719e-02, -5.71937007e-02,\n",
       "         6.09171392e-02, -3.27547082e-02, -4.78617972e-02,\n",
       "         1.78865556e-02,  7.50941342e-02,  8.30942526e-02,\n",
       "         7.58574158e-02,  6.26500416e-02,  4.79646300e-02,\n",
       "         5.30031274e-02, -4.87688949e-02, -8.84047468e-02,\n",
       "        -2.17840108e-02,  2.03880747e-01,  1.98981298e-01,\n",
       "         1.87121494e-01,  1.71971101e-01,  3.37355532e-02,\n",
       "         2.27791961e-02,  1.24137553e-02,  3.25714783e-03,\n",
       "         4.26717190e-02, -2.88251421e-02, -9.55405562e-03,\n",
       "         2.22092527e-03,  3.49842720e-02,  3.08502607e-02,\n",
       "         5.84426667e-02, -6.04239707e-02,  2.39236493e-02,\n",
       "        -1.30815081e-02, -6.82670395e-03, -4.98688363e-02,\n",
       "         3.22796043e-04, -5.33363377e-02, -1.23384415e-01,\n",
       "        -8.74260407e-02,  2.40377142e-01,  2.00264933e-02,\n",
       "        -3.92003917e-02, -6.40547210e-02, -6.32263337e-02,\n",
       "        -6.07790590e-02, -2.71661591e-02, -4.76947107e-02,\n",
       "        -5.87489094e-02, -5.19831676e-02,  1.02618999e-02,\n",
       "        -1.84619444e-02, -1.30101408e-01, -3.44592154e-02,\n",
       "        -2.41518418e-02, -5.22472607e-02, -8.47702615e-02,\n",
       "        -2.38308573e-01, -2.75193576e-01, -1.89050662e-01,\n",
       "        -1.37315644e-03, -1.21594897e-01, -1.60052481e-01,\n",
       "        -8.79764968e-02],\n",
       "       [-9.50835974e-02, -1.13399096e-01, -1.51178316e-01,\n",
       "         1.09693827e-01,  3.56703998e-02,  1.48120079e-02,\n",
       "        -3.81531972e-02, -5.38091429e-02, -1.27040677e-03,\n",
       "         2.25862775e-01, -1.09420298e-01, -5.59795363e-01,\n",
       "        -2.60973337e-02, -2.00049843e-01,  6.76623362e-02,\n",
       "         7.98119635e-02,  1.94447057e-01,  3.50210359e-02,\n",
       "         8.18534632e-02,  1.54527721e-02,  6.60204571e-02,\n",
       "         4.97415620e-02,  4.83785801e-03, -3.04751159e-03,\n",
       "         6.56445346e-02, -2.03443865e-02,  1.74773729e-02,\n",
       "        -8.68198153e-02,  5.15677911e-02,  8.61809345e-02,\n",
       "         4.85583903e-02,  6.10832211e-02,  3.64986590e-02,\n",
       "        -1.60041175e-01, -1.91081149e-02,  9.70983673e-02,\n",
       "        -9.39064516e-03,  5.44983670e-02, -3.76616894e-02,\n",
       "         2.63634132e-02, -5.37085745e-02, -4.70981877e-02,\n",
       "        -1.33730509e-01, -8.60621497e-04,  1.29673695e-02,\n",
       "         1.24061286e-03,  1.38624600e-02, -6.66615440e-02,\n",
       "        -5.76873728e-02, -7.31602312e-02, -9.13318765e-02,\n",
       "        -1.93903174e-02,  4.66413217e-02,  3.57377144e-02,\n",
       "         1.42338082e-02, -3.47419643e-03,  1.17710669e-01,\n",
       "         1.08724821e-01,  9.99157515e-02,  8.92902813e-02,\n",
       "        -7.55785981e-02,  5.73885922e-02, -8.96696764e-02,\n",
       "        -9.79126971e-02, -1.49634837e-01, -1.49198560e-01,\n",
       "        -1.08078390e-01, -4.68958271e-02, -2.54620972e-02,\n",
       "         1.06634893e-01, -1.28562320e-01, -9.11667174e-02,\n",
       "        -5.32416423e-02, -4.25624094e-02, -1.13992322e-01,\n",
       "         6.77713031e-02, -1.85835176e-01,  3.89583785e-02,\n",
       "         5.04460605e-02,  1.16318405e-01,  1.28935106e-01,\n",
       "         1.39189222e-01,  1.59461889e-02,  3.94101215e-02,\n",
       "         5.48388569e-02,  2.68674360e-02,  7.77538711e-02,\n",
       "         1.96153729e-02,  6.54107597e-02, -4.58925369e-02,\n",
       "        -3.09458991e-02,  1.06858254e-01, -1.90000456e-02,\n",
       "         4.51157006e-02,  1.25252796e-02,  2.09832426e-02,\n",
       "        -7.97411660e-02,  5.28964962e-02,  3.94293847e-02,\n",
       "        -1.28696878e-01]])"
      ]
     },
     "execution_count": 93,
     "metadata": {},
     "output_type": "execute_result"
    }
   ],
   "source": [
    "pca = PCA(n_components=5)\n",
    "pca.fit(initial)\n",
    "pca.components_"
   ]
  },
  {
   "cell_type": "code",
   "execution_count": 94,
   "metadata": {},
   "outputs": [
    {
     "data": {
      "text/plain": [
       "array([0.26753256, 0.1879639 , 0.08245766, 0.07097958, 0.04612133])"
      ]
     },
     "execution_count": 94,
     "metadata": {},
     "output_type": "execute_result"
    }
   ],
   "source": [
    "pca.explained_variance_ratio_"
   ]
  },
  {
   "cell_type": "code",
   "execution_count": 95,
   "metadata": {},
   "outputs": [
    {
     "data": {
      "text/plain": [
       "array([[ 0.42940989, -0.53929962,  0.31031454,  0.614929  , -0.78039935],\n",
       "       [-1.19933196, -0.90092286,  0.31801596,  0.06578608,  0.08518988],\n",
       "       [-1.25540273, -0.45223119, -0.37326947, -0.57765157, -0.34191701],\n",
       "       ...,\n",
       "       [-0.39828125, -0.04847062, -0.72054899,  1.84903699,  0.50341966],\n",
       "       [-0.06739216, -0.87415147,  0.57794266,  0.14245354, -0.03894124],\n",
       "       [-0.53794345, -0.94270676, -0.04992509,  0.22885671,  0.51675953]])"
      ]
     },
     "execution_count": 95,
     "metadata": {},
     "output_type": "execute_result"
    }
   ],
   "source": [
    "pcdf = pca.transform(initial)\n",
    "pcdf"
   ]
  },
  {
   "cell_type": "code",
   "execution_count": 96,
   "metadata": {},
   "outputs": [
    {
     "name": "stdout",
     "output_type": "stream",
     "text": [
      "fl score is 87.0279146141215\n",
      "Accuracy is 84.14450577019569\n",
      "Precision is 89.3760539629005\n",
      "Recall is 84.8\n"
     ]
    }
   ],
   "source": [
    "from sklearn.metrics import f1_score\n",
    "knn = KNeighborsClassifier(n_neighbors=12)\n",
    "knn.fit(pcdf,Y)\n",
    "y_pred = knn.predict(pcdf)\n",
    "print ('fl score is', f1_score(Y,y_pred,average=\"binary\")*100)\n",
    "print ('Accuracy is', accuracy_score(Y,y_pred)*100)\n",
    "print ('Precision is', precision_score(Y,y_pred)*100)\n",
    "print ('Recall is', recall_score(Y,y_pred)*100)"
   ]
  },
  {
   "cell_type": "code",
   "execution_count": 97,
   "metadata": {},
   "outputs": [
    {
     "name": "stdout",
     "output_type": "stream",
     "text": [
      "Cross validation accuracy is 79.57286432160804\n",
      "Cross validation precision is 85.35884460774638\n",
      "Cross validation recall is 81.60000000000001\n"
     ]
    }
   ],
   "source": [
    "scores = cross_val_score(knn,pcdf,Y,fold,'accuracy',10)\n",
    "print ('Cross validation accuracy is', np.mean(scores)*100)\n",
    "scores = cross_val_score(knn,pcdf,Y,fold,'precision',10)\n",
    "print ('Cross validation precision is', np.mean(scores)*100)\n",
    "scores = cross_val_score(knn,pcdf,Y,fold,'recall',10)\n",
    "print ('Cross validation recall is', np.mean(scores)*100)"
   ]
  },
  {
   "cell_type": "markdown",
   "metadata": {},
   "source": [
    "K-nn is a grouping method using distance as the most important factor for classification of data. This combined with the loss of specific features in PCA dimensionality reduction makes finding reliable predictive features very difficult.\n",
    "\n",
    "Thus the best estimator of predictive features is the greatest magnitude features of the eigenvector that captures the largest percentage of variance in the dataset."
   ]
  },
  {
   "cell_type": "code",
   "execution_count": 98,
   "metadata": {},
   "outputs": [
    {
     "name": "stdout",
     "output_type": "stream",
     "text": [
      "ind is  [83 84 80 19 45 44 81 82 85 12]\n",
      "10_max_vector_components is  [0.16356539 0.19320424 0.16436957 0.17966268 0.17867647 0.16873687\n",
      " 0.16398596 0.16706879 0.16710099 0.1884921 ]\n",
      "83\n",
      "vector_component[index] is  RentMedian\n",
      "84\n",
      "vector_component[index] is  RentHighQ\n",
      "80\n",
      "vector_component[index] is  OwnOccMedVal\n",
      "19\n",
      "vector_component[index] is  medFamInc\n",
      "45\n",
      "vector_component[index] is  PctYoungKids2Par\n",
      "44\n",
      "vector_component[index] is  PctKids2Par\n",
      "81\n",
      "vector_component[index] is  OwnOccHiQuart\n",
      "82\n",
      "vector_component[index] is  RentLowQ\n",
      "85\n",
      "vector_component[index] is  MedRent\n",
      "12\n",
      "vector_component[index] is  medIncome\n"
     ]
    }
   ],
   "source": [
    "feature_name=list(initial)\n",
    "\n",
    "ind = np.argpartition(pca.components_[0], -10)[-10:]\n",
    "\n",
    "print('ind is ',ind)\n",
    "print('10_max_vector_components is ',pca.components_[0][ind])\n",
    "\n",
    "for x in range(0, len(ind)):\n",
    "    index=ind[x]\n",
    "    print(index)\n",
    "    print('vector_component[index] is ',feature_name[index])"
   ]
  },
  {
   "cell_type": "markdown",
   "metadata": {},
   "source": [
    "PCA to K-NN results are similar to Decision Tree.  The most significant features are vastly different from the other methods implemented in this project, this is likely because they aren't derived from a classification algorithm but from the features with greatest variance in a dimensionality reduction algorithm."
   ]
  },
  {
   "cell_type": "code",
   "execution_count": 99,
   "metadata": {},
   "outputs": [
    {
     "data": {
      "image/png": "[encoded data removed]",
      "text/plain": [
       "<matplotlib.figure.Figure at 0x26970be9710>"
      ]
     },
     "metadata": {},
     "output_type": "display_data"
    }
   ],
   "source": [
    "df=pd.read_csv('communities-crime-full.csv')\n",
    "df['highCrime'] = np.where(df['ViolentCrimesPerPop']>0.1, 1, 0)\n",
    "Y = df['highCrime']\n",
    "fold=df['fold']\n",
    "x=[]\n",
    "y=[]\n",
    "for k in range (1,16):\n",
    "    y.append([])\n",
    "for i in range (2,15):\n",
    "    pca = PCA(n_components=i)\n",
    "    pca.fit(New_data)\n",
    "    pcdf = pca.transform(New_data)\n",
    "    for j in range (1,16):\n",
    "        knn = KNeighborsClassifier(j)\n",
    "        knn.fit(pcdf,Y)\n",
    "        scores = cross_val_score(knn,pcdf,Y,fold,'accuracy',10)\n",
    "        y[j-1].append(np.mean(scores))\n",
    "    x.append(i)\n",
    "\n",
    "plt.plot(x,y[0],'r-',\n",
    "         x,y[1],'g-',\n",
    "         x,y[2],'b-',\n",
    "         x,y[3],'r--',\n",
    "         x,y[4],'g--',\n",
    "         x,y[5],'b--',\n",
    "         x,y[6],'r-.',\n",
    "         x,y[7],'g-.',\n",
    "         x,y[8],'b-.',\n",
    "         x,y[9],'r:',\n",
    "         x,y[10],'g:',\n",
    "         x,y[11],'b:',\n",
    "         x,y[12],'c-',\n",
    "         x,y[13],'m-',\n",
    "         x,y[14],'y-')\n",
    "plt.show()"
   ]
  },
  {
   "cell_type": "markdown",
   "metadata": {},
   "source": [
    "<ul>\n",
    "<li>X-axis is number of components</li>\n",
    "<li>Y-axis is accuracy\n",
    "<ul>\n",
    "<li>Red-solid-line is k=1</li>\n",
    "<li>Green-solid-line is k=2</li>\n",
    "<li>Blue-solid-line is k=3</li>\n",
    "<li>Red-dashed-line is k=4</li>\n",
    "<li>Green-dashed-line is k=5</li>\n",
    "<li>Blue-dashed-line is k=6</li>\n",
    "<li>Red-dash-dot-line is k=7</li>\n",
    "<li>Green-dash-dot-line is k=8</li>\n",
    "<li>Blue-dash-dot-line is k=9</li>\n",
    "<li>Red-dotted-line is k=10</li>\n",
    "<li>Green-dotted-line is k=11</li>\n",
    "<li>Blue-dotted-line is k=12</li>\n",
    "<li>Cyan-solid-line is k=13</li>\n",
    "<li>Magenta-solid-line is k=14</li>\n",
    "<li>Yellow-solid-line is k=15</li>\n",
    "</ul></li>\n",
    "</ul>\n",
    "\n",
    "Magenta and yellow solid lines have best overall performance at n-components=5 meaning k=14 or k=15, favoring least complexity k=14 will be chosen."
   ]
  },
  {
   "cell_type": "code",
   "execution_count": 100,
   "metadata": {},
   "outputs": [
    {
     "data": {
      "text/plain": [
       "array([[-2.05868501e-02,  9.75819912e-03, -1.29180835e-01,\n",
       "         1.23575532e-01,  6.51854595e-02, -6.12052661e-02,\n",
       "        -4.71845615e-02, -4.58094979e-02, -4.69925869e-02,\n",
       "        -3.46798200e-02, -1.58243934e-02,  1.52668790e-01,\n",
       "         1.88267648e-01,  1.03334631e-01, -7.14474897e-03,\n",
       "         1.48575631e-01, -6.12402679e-02, -1.73533941e-01,\n",
       "         4.48558660e-03,  1.79462994e-01,  1.60939303e-01,\n",
       "         1.39935680e-01,  1.07041398e-01,  4.38929392e-02,\n",
       "         8.17176372e-02,  7.72774286e-02,  1.12556720e-01,\n",
       "        -3.99788267e-02, -1.91486828e-01, -1.50541901e-01,\n",
       "        -1.59258997e-01,  1.42536645e-01, -1.52856395e-01,\n",
       "         1.10267208e-01, -2.31152613e-02,  1.59113810e-02,\n",
       "        -1.34624608e-01,  1.35089944e-01, -1.06389755e-01,\n",
       "        -4.01904725e-02, -1.01626911e-01, -1.09689028e-01,\n",
       "        -1.30285003e-02,  1.62909635e-01,  1.68913509e-01,\n",
       "         1.78892728e-01,  1.33961330e-01, -1.19086566e-02,\n",
       "         1.13146990e-02, -3.13687988e-02, -1.51377480e-01,\n",
       "        -6.74700915e-03, -4.12695813e-02, -4.74095615e-02,\n",
       "        -4.46525297e-02, -4.94256892e-02,  6.35142666e-03,\n",
       "         3.75876254e-03,  6.81875408e-03,  4.21425077e-03,\n",
       "         2.14181944e-02, -4.54304685e-02, -6.59391760e-02,\n",
       "        -4.86718847e-02,  2.28736171e-02,  3.67529738e-02,\n",
       "        -4.79318387e-02,  1.22493153e-01, -8.43731596e-02,\n",
       "        -9.62425586e-02,  1.09319821e-01, -3.43569546e-02,\n",
       "         7.41003342e-02,  1.04408975e-01, -1.07887955e-01,\n",
       "        -4.71985297e-02,  4.19944916e-02, -1.99421474e-01,\n",
       "        -1.09429549e-01,  1.61768522e-01,  1.64129372e-01,\n",
       "         1.63707871e-01,  1.66983540e-01,  1.63428242e-01,\n",
       "         1.92985675e-01,  1.66914307e-01, -4.35293153e-02,\n",
       "         5.71062436e-02, -1.63828072e-02, -1.92055231e-02,\n",
       "        -1.35438884e-02,  2.95190230e-02, -4.97565225e-02,\n",
       "         3.36026722e-02, -1.88183002e-02, -2.21857619e-02,\n",
       "        -4.63842657e-03, -2.64715412e-03,  4.20720223e-03,\n",
       "        -2.31004954e-03, -5.52546036e-03, -4.21871028e-03,\n",
       "        -2.20889575e-03, -2.65097265e-03,  1.08946443e-02,\n",
       "         1.06736688e-02, -1.63479261e-02, -3.68487189e-03,\n",
       "         5.04525423e-03, -1.42347240e-02, -4.16911191e-03,\n",
       "        -2.07038440e-03, -2.31712141e-04, -8.97404282e-03,\n",
       "        -1.39853291e-02,  3.90428108e-02, -8.32220497e-03,\n",
       "        -3.79567997e-03,  3.33890172e-03, -1.15603140e-03,\n",
       "        -4.28819862e-02,  9.32330717e-04],\n",
       "       [ 4.68639304e-02,  7.31251825e-02,  2.94188314e-02,\n",
       "        -1.58220527e-01,  1.59104229e-01,  1.90051472e-01,\n",
       "         1.83043796e-02,  4.97386824e-02,  3.59877393e-02,\n",
       "        -6.85646744e-02,  5.07144763e-02,  1.79297229e-01,\n",
       "         3.50297988e-02,  4.76717756e-02, -2.97755818e-02,\n",
       "        -3.87378572e-02, -7.24769102e-02,  6.24234139e-02,\n",
       "        -6.89038231e-02,  2.64968261e-02,  2.15455911e-02,\n",
       "         3.98701627e-02,  3.12271105e-02,  1.62075966e-02,\n",
       "        -2.10808433e-03,  1.76112481e-02,  1.02745962e-03,\n",
       "         4.48732684e-02,  3.72397160e-02,  5.81793684e-02,\n",
       "         3.53253360e-02,  2.79148074e-02,  5.00265309e-02,\n",
       "         1.70491364e-02, -3.08381914e-02, -1.63961178e-02,\n",
       "        -1.83951829e-02,  9.43162815e-03,  1.58915251e-03,\n",
       "         9.45763446e-02,  3.13870740e-02,  1.72464263e-02,\n",
       "         8.70368571e-02, -3.52047755e-02, -4.68061362e-02,\n",
       "        -2.17934050e-02, -3.77603241e-02, -5.20114578e-02,\n",
       "        -7.28971659e-02,  3.70130036e-02,  9.32890801e-02,\n",
       "         5.54406119e-02,  8.53144495e-02,  9.93808609e-02,\n",
       "         1.07338338e-01,  1.13948035e-01,  2.48579858e-01,\n",
       "         2.52833761e-01,  2.55312440e-01,  2.53771648e-01,\n",
       "        -2.16506113e-01,  2.09492816e-01,  1.49664834e-01,\n",
       "         1.36063635e-01,  7.54231798e-02,  6.66207884e-02,\n",
       "         1.07125434e-01, -1.00297666e-01,  1.87225412e-01,\n",
       "         7.53170558e-02, -1.02260835e-01,  3.84991245e-02,\n",
       "         1.21472215e-02, -8.61935843e-02,  2.59797019e-02,\n",
       "        -7.92858584e-02,  6.87774077e-03, -6.51768427e-03,\n",
       "         5.32542335e-02,  1.24288167e-01,  1.30764625e-01,\n",
       "         1.30889686e-01,  1.14193597e-01,  1.08271499e-01,\n",
       "         1.30274472e-01,  1.00831939e-01,  7.83111031e-02,\n",
       "         1.24975506e-01, -1.17828505e-02,  3.27873210e-02,\n",
       "         3.47183706e-02,  2.41255800e-01, -1.19521012e-01,\n",
       "        -5.52463068e-02, -3.65771479e-02, -5.63829176e-02,\n",
       "         6.14926427e-03, -2.45272242e-03, -5.56686982e-03,\n",
       "        -1.96535515e-03,  7.96570877e-03,  4.91202461e-04,\n",
       "         5.50445938e-03, -2.44773620e-03, -1.05967382e-02,\n",
       "        -1.77931817e-02,  7.87784133e-04,  2.09044482e-02,\n",
       "         1.99615130e-02,  1.78463585e-02,  5.18484769e-03,\n",
       "         3.05491448e-03,  1.21730619e-02,  7.09576587e-03,\n",
       "         1.48413480e-01,  1.16065578e-01,  4.19626663e-03,\n",
       "         8.26703658e-03,  2.09301869e-03,  3.24510173e-03,\n",
       "         7.81436544e-02,  3.12458599e-03],\n",
       "       [-7.01961886e-02,  1.84131952e-01, -1.50169544e-01,\n",
       "         3.37207339e-02, -2.52705130e-02,  1.78352160e-01,\n",
       "         2.57733240e-02, -3.43783825e-02, -5.64393932e-02,\n",
       "        -5.90721562e-02, -7.47197763e-02, -2.25147082e-01,\n",
       "         2.97812060e-02,  3.62703289e-02,  8.76994353e-02,\n",
       "        -4.86952432e-02, -9.02552380e-03,  5.63141098e-02,\n",
       "        -1.81266073e-02, -1.10481632e-02, -7.13904632e-02,\n",
       "        -9.41348367e-02,  1.31489919e-03, -9.57188739e-03,\n",
       "         2.95136965e-03, -1.40305520e-02, -3.49368411e-02,\n",
       "        -6.47231828e-02, -1.79491703e-02,  1.39590616e-01,\n",
       "         1.15039709e-01, -1.35350758e-01,  6.84719984e-02,\n",
       "        -9.28720947e-03,  1.08435780e-01, -1.17949497e-01,\n",
       "         1.20478044e-01, -1.06286395e-01, -1.22302991e-01,\n",
       "        -1.13958240e-01, -1.10633106e-01, -1.22040920e-01,\n",
       "         1.84024120e-01,  1.38353769e-01,  1.15113919e-01,\n",
       "         1.00004463e-01,  1.46600627e-01, -6.82361362e-02,\n",
       "        -8.15355106e-02, -5.64206882e-02, -1.05136104e-01,\n",
       "        -1.43037685e-02, -1.42151332e-01, -1.35326360e-01,\n",
       "        -1.28886316e-01, -1.07364828e-01,  3.25726008e-03,\n",
       "         1.42163334e-02,  2.04216325e-02,  3.08869700e-02,\n",
       "        -1.43082032e-01,  1.39495395e-01,  1.68567336e-01,\n",
       "         1.96669354e-01,  2.24936831e-01,  1.83889090e-01,\n",
       "         1.94915661e-01,  1.32583087e-01,  1.30172330e-01,\n",
       "        -1.11540354e-01,  1.46782053e-01, -1.04024828e-01,\n",
       "         6.64976167e-02,  1.41892899e-01, -1.48446265e-02,\n",
       "         6.07560440e-02,  4.97990950e-02,  3.12506554e-02,\n",
       "         6.78822249e-02, -2.00143434e-02, -2.89525802e-02,\n",
       "        -4.36697847e-02, -2.16342144e-02, -1.55561514e-02,\n",
       "        -1.93100126e-02, -7.21299276e-03, -3.62382613e-02,\n",
       "         1.29884489e-02, -8.01039863e-03, -5.63361070e-02,\n",
       "        -3.96849945e-02,  6.17991954e-02,  8.96899065e-02,\n",
       "         1.06592533e-01,  1.17673857e-01,  1.38482592e-01,\n",
       "        -1.07327871e-02, -9.60999201e-03,  1.02177599e-02,\n",
       "        -1.07043318e-02, -1.07962048e-02, -1.07888137e-02,\n",
       "        -8.74362028e-04, -9.60800807e-03,  6.55111474e-03,\n",
       "        -6.32391631e-03, -2.01295556e-02,  2.43391884e-02,\n",
       "         2.57865165e-03,  5.49144461e-03, -9.48896169e-03,\n",
       "        -9.81620667e-03,  5.93890150e-03, -3.58501221e-02,\n",
       "        -5.30665841e-02, -1.12363936e-01, -2.03427642e-02,\n",
       "        -9.63313616e-03,  3.25350110e-03, -6.40232005e-03,\n",
       "        -1.36474846e-01, -6.86069689e-03],\n",
       "       [-3.82909814e-02,  9.11241162e-02, -8.87063120e-02,\n",
       "         5.13768158e-02,  2.84470551e-02,  1.07418011e-02,\n",
       "         1.72596176e-01,  1.63024857e-01,  1.79123474e-01,\n",
       "        -1.76990753e-01, -4.82203912e-02, -3.30034206e-01,\n",
       "        -3.30246185e-02,  1.37076533e-01,  1.74246573e-01,\n",
       "        -1.10089330e-02, -1.69298016e-01, -8.08900542e-02,\n",
       "        -1.43773310e-01, -2.35655827e-02, -5.69173853e-02,\n",
       "        -6.63142672e-02, -4.07551937e-02, -2.29228948e-02,\n",
       "        -7.90364457e-02, -2.73485451e-02, -6.68901050e-02,\n",
       "        -4.04813793e-02,  5.65553542e-02, -6.71238203e-02,\n",
       "        -1.01280335e-01,  9.05658973e-02, -6.40389994e-02,\n",
       "         7.12667861e-02, -7.36802186e-02,  6.10658432e-02,\n",
       "        -5.88826504e-02,  3.94127359e-02, -5.49031156e-02,\n",
       "         6.11242683e-02, -3.07059503e-02, -4.56111414e-02,\n",
       "         1.53493827e-02,  7.39088461e-02,  8.22265644e-02,\n",
       "         7.51908957e-02,  6.17097799e-02,  4.87146214e-02,\n",
       "         5.39012388e-02, -4.96499375e-02, -8.91462959e-02,\n",
       "        -2.20302200e-02,  2.04942026e-01,  2.00221111e-01,\n",
       "         1.88375432e-01,  1.73202855e-01,  3.45394427e-02,\n",
       "         2.35726459e-02,  1.31562583e-02,  3.94938527e-03,\n",
       "         4.29841390e-02, -2.90396576e-02, -1.14567780e-02,\n",
       "         6.57944239e-05,  3.20438468e-02,  2.82689923e-02,\n",
       "         5.63351417e-02, -6.23831267e-02,  2.32490570e-02,\n",
       "        -1.05404370e-02, -1.02620439e-02, -4.97477564e-02,\n",
       "        -3.74599899e-04, -5.53332288e-02, -1.24387050e-01,\n",
       "        -8.89722291e-02,  2.39463600e-01,  1.98648367e-02,\n",
       "        -4.03203206e-02, -6.43477244e-02, -6.35568436e-02,\n",
       "        -6.11471987e-02, -2.70722594e-02, -4.79785502e-02,\n",
       "        -5.92837463e-02, -5.25383651e-02,  1.05665124e-02,\n",
       "        -1.88058046e-02, -1.30858202e-01, -3.48237784e-02,\n",
       "        -2.44505356e-02, -5.18187975e-02, -8.59609433e-02,\n",
       "        -2.39565949e-01, -2.75744687e-01, -1.90021921e-01,\n",
       "        -9.94870211e-03, -1.09817125e-02,  9.37189018e-03,\n",
       "        -1.19025701e-02, -8.79700901e-03, -7.42481957e-03,\n",
       "         6.13187256e-03, -1.09940024e-02,  1.04227896e-02,\n",
       "         1.07612783e-02, -2.11487531e-02, -4.75466525e-04,\n",
       "         7.89173003e-03, -1.44988689e-02, -7.93856097e-03,\n",
       "         6.78575766e-04, -3.58122867e-03, -1.62353659e-03,\n",
       "        -1.20567876e-01, -1.60285537e-01, -7.52918783e-03,\n",
       "        -8.76179551e-03,  2.35442124e-03,  2.42475341e-02,\n",
       "        -8.58898861e-02, -6.98796500e-03],\n",
       "       [ 1.00315510e-01,  1.18335941e-01,  1.60398034e-01,\n",
       "        -1.16680070e-01, -3.59660837e-02, -1.67928514e-02,\n",
       "         4.27737989e-02,  5.44336608e-02,  3.65758244e-03,\n",
       "        -2.28504023e-01,  1.13981076e-01,  5.39911083e-01,\n",
       "         3.04162461e-02,  2.00729978e-01, -6.17604254e-02,\n",
       "        -7.81010403e-02, -1.95997842e-01, -3.23820000e-02,\n",
       "        -8.46183492e-02, -1.11535389e-02, -6.23687954e-02,\n",
       "        -4.42129217e-02, -3.11398646e-03,  3.78605154e-03,\n",
       "        -6.17749185e-02,  2.13520544e-02, -1.46350185e-02,\n",
       "         9.32770580e-02, -4.69839608e-02, -8.64870554e-02,\n",
       "        -5.00199772e-02, -5.35455436e-02, -3.41183689e-02,\n",
       "         1.57758121e-01,  1.51181577e-02, -8.90016782e-02,\n",
       "         5.35162243e-03, -4.78035687e-02,  3.21834974e-02,\n",
       "        -2.30482993e-02,  4.87403511e-02,  4.17403390e-02,\n",
       "         1.37718006e-01,  1.20416052e-03, -1.32854262e-02,\n",
       "        -2.05110872e-03, -1.39280489e-02,  6.31694894e-02,\n",
       "         5.39699051e-02,  7.94375606e-02,  9.64264446e-02,\n",
       "         2.16945084e-02, -4.49650645e-02, -3.49150247e-02,\n",
       "        -1.36337341e-02,  3.64333234e-03, -1.20476715e-01,\n",
       "        -1.11955469e-01, -1.03130532e-01, -9.26598140e-02,\n",
       "         7.76583839e-02, -6.01910730e-02,  9.24983850e-02,\n",
       "         1.00594041e-01,  1.53343597e-01,  1.52443158e-01,\n",
       "         1.09620589e-01,  5.11958793e-02,  2.46848936e-02,\n",
       "        -1.12841514e-01,  1.36255231e-01,  9.67272110e-02,\n",
       "         5.26169125e-02,  4.68399831e-02,  1.21555007e-01,\n",
       "        -6.03347850e-02,  1.84329283e-01, -3.60128630e-02,\n",
       "        -4.65486761e-02, -1.13426568e-01, -1.25289226e-01,\n",
       "        -1.34564418e-01, -1.65081157e-02, -3.78470917e-02,\n",
       "        -5.20973489e-02, -2.47043393e-02, -7.54991758e-02,\n",
       "        -1.97630793e-02, -6.22412640e-02,  5.03111889e-02,\n",
       "         3.43771745e-02, -1.10050400e-01,  2.30969199e-02,\n",
       "        -4.14589349e-02, -1.13718579e-02, -1.79773082e-02,\n",
       "         1.61505602e-02, -9.56374589e-03, -1.49626184e-02,\n",
       "        -1.16785526e-02,  2.10844169e-02, -6.31566349e-04,\n",
       "         1.36819054e-02, -9.56682518e-03, -2.04837658e-02,\n",
       "        -2.26026759e-02,  4.30157172e-02, -4.05500979e-03,\n",
       "        -1.20769182e-02,  2.71774594e-02,  1.19721552e-02,\n",
       "         1.49781991e-02, -1.06359898e-02,  8.42574466e-02,\n",
       "        -5.67252281e-02, -3.47607487e-02,  3.58077166e-02,\n",
       "         1.39402712e-02, -1.15769035e-02,  2.54605779e-02,\n",
       "         1.25085076e-01, -1.57021768e-02]])"
      ]
     },
     "execution_count": 100,
     "metadata": {},
     "output_type": "execute_result"
    }
   ],
   "source": [
    "pca = PCA(n_components=5)\n",
    "pca.fit(New_data)\n",
    "pca.components_"
   ]
  },
  {
   "cell_type": "code",
   "execution_count": 101,
   "metadata": {},
   "outputs": [
    {
     "data": {
      "text/plain": [
       "array([0.25854019, 0.18166128, 0.07971167, 0.06863376, 0.0447857 ])"
      ]
     },
     "execution_count": 101,
     "metadata": {},
     "output_type": "execute_result"
    }
   ],
   "source": [
    "pca.explained_variance_ratio_"
   ]
  },
  {
   "cell_type": "code",
   "execution_count": 102,
   "metadata": {},
   "outputs": [
    {
     "data": {
      "text/plain": [
       "array([[ 0.35772934, -0.28927626, -0.55437696,  0.12694518,  0.42805053],\n",
       "       [-0.16418724,  0.26989243, -0.95874065,  0.24922073,  0.14474921],\n",
       "       [-0.60595542, -0.51332098,  0.07151308, -0.02621486, -0.01678369],\n",
       "       ...,\n",
       "       [-0.58777866,  0.19536295, -0.19990587, -0.85729026,  0.1144254 ],\n",
       "       [ 0.54779527,  0.72318122, -0.35253006,  0.05258151, -0.29110961],\n",
       "       [-0.39754717,  2.11859241,  0.69516674,  0.24787941,  0.53698124]])"
      ]
     },
     "execution_count": 102,
     "metadata": {},
     "output_type": "execute_result"
    }
   ],
   "source": [
    "pcdf = pca.transform(New_data)\n",
    "pcdf"
   ]
  },
  {
   "cell_type": "code",
   "execution_count": 103,
   "metadata": {},
   "outputs": [
    {
     "name": "stdout",
     "output_type": "stream",
     "text": [
      "fl score is 86.80016346546792\n",
      "Accuracy is 83.8014042126379\n",
      "Precision is 88.79598662207357\n",
      "Recall is 84.89208633093526\n"
     ]
    }
   ],
   "source": [
    "knn = KNeighborsClassifier(n_neighbors=14)\n",
    "knn.fit(pcdf,Y)\n",
    "y_pred = knn.predict(pcdf)\n",
    "print ('fl score is', f1_score(Y,y_pred,average=\"binary\")*100)\n",
    "print ('Accuracy is', accuracy_score(Y,y_pred)*100)\n",
    "print ('Precision is', precision_score(Y,y_pred)*100)\n",
    "print ('Recall is', recall_score(Y,y_pred)*100)"
   ]
  },
  {
   "cell_type": "code",
   "execution_count": 104,
   "metadata": {},
   "outputs": [
    {
     "name": "stdout",
     "output_type": "stream",
     "text": [
      "Cross validation accuracy is 81.44037475936898\n",
      "Cross validation precision is 86.88833472716958\n",
      "Cross validation recall is 82.9726984126984\n"
     ]
    }
   ],
   "source": [
    "scores = cross_val_score(knn,pcdf,Y,fold,'accuracy',10)\n",
    "print ('Cross validation accuracy is', np.mean(scores)*100)\n",
    "scores = cross_val_score(knn,pcdf,Y,fold,'precision',10)\n",
    "print ('Cross validation precision is', np.mean(scores)*100)\n",
    "scores = cross_val_score(knn,pcdf,Y,fold,'recall',10)\n",
    "print ('Cross validation recall is', np.mean(scores)*100)"
   ]
  },
  {
   "cell_type": "markdown",
   "metadata": {},
   "source": [
    "K-nn is a grouping method using distance as the most important factor for classification of data. This combined with the loss of specific features in PCA dimensionality reduction makes finding reliable predictive features very difficult.\n",
    "\n",
    "Thus the best estimator of predictive features is the greatest magnitude features of the eigenvector that captures the largest percentage of variance in the dataset."
   ]
  },
  {
   "cell_type": "code",
   "execution_count": 105,
   "metadata": {},
   "outputs": [
    {
     "name": "stdout",
     "output_type": "stream",
     "text": [
      "ind is  [83 81 80 82 44 85 45 19 84 12]\n",
      "10_max_vector_components is  [0.16342824 0.16370787 0.16412937 0.16698354 0.16891351 0.16691431\n",
      " 0.17889273 0.17946299 0.19298567 0.18826765]\n",
      "83\n",
      "vector_component[index] is  RentMedian\n",
      "81\n",
      "vector_component[index] is  OwnOccHiQuart\n",
      "80\n",
      "vector_component[index] is  OwnOccMedVal\n",
      "82\n",
      "vector_component[index] is  RentLowQ\n",
      "44\n",
      "vector_component[index] is  PctKids2Par\n",
      "85\n",
      "vector_component[index] is  MedRent\n",
      "45\n",
      "vector_component[index] is  PctYoungKids2Par\n",
      "19\n",
      "vector_component[index] is  medFamInc\n",
      "84\n",
      "vector_component[index] is  RentHighQ\n",
      "12\n",
      "vector_component[index] is  medIncome\n"
     ]
    }
   ],
   "source": [
    "ind = np.argpartition(pca.components_[0], -10)[-10:]\n",
    "\n",
    "print('ind is ',ind)\n",
    "print('10_max_vector_components is ',pca.components_[0][ind])\n",
    "\n",
    "for x in range(0, len(ind)):\n",
    "    index=ind[x]\n",
    "    print(index)\n",
    "    print('vector_component[index] is ',feature_name[index])"
   ]
  },
  {
   "cell_type": "markdown",
   "metadata": {},
   "source": [
    "PCA to K-NN has improved classification with the addition of the features with missing data. This is likely because new features add some variance that is translated into greater distances between the classes in the reduced dimensionality space."
   ]
  },
  {
   "cell_type": "markdown",
   "metadata": {},
   "source": [
    "# PolynomialSVC"
   ]
  },
  {
   "cell_type": "code",
   "execution_count": 106,
   "metadata": {},
   "outputs": [],
   "source": [
    "df=pd.read_csv('communities-crime-clean.csv')\n",
    "df['highCrime'] = np.where(df['ViolentCrimesPerPop']>0.1, 1, 0)\n",
    "Y = df['highCrime']\n",
    "fold=df['fold']"
   ]
  },
  {
   "cell_type": "code",
   "execution_count": 107,
   "metadata": {},
   "outputs": [
    {
     "data": {
      "image/png": "[encoded data removed]",
      "text/plain": [
       "<matplotlib.figure.Figure at 0x26900dceb00>"
      ]
     },
     "metadata": {},
     "output_type": "display_data"
    }
   ],
   "source": [
    "from sklearn.svm import SVC\n",
    "x=[]\n",
    "y=[]\n",
    "for k in range (1,5):\n",
    "    y.append([])\n",
    "for i in range (0,4):\n",
    "    for j in range (1,5):\n",
    "        poly_svc = SVC(C=2**i, kernel='poly', degree=j).fit(initial, Y)\n",
    "        scores = cross_val_score(poly_svc,initial,Y,fold,'accuracy',10)\n",
    "        y[j-1].append(np.mean(scores))\n",
    "    x.append(2**i)    \n",
    "\n",
    "plt.plot(x,y[0],'r-',\n",
    "         x,y[1],'g-',\n",
    "         x,y[2],'b-',\n",
    "         x,y[3],'y-')\n",
    "plt.show()"
   ]
  },
  {
   "cell_type": "markdown",
   "metadata": {},
   "source": [
    "X-axis is error penalty (C) term\n",
    "Y-axis is accuracy\n",
    "Red=Degree 1\n",
    "Green=Degree 2   \n",
    "Blue=Degree 3   \n",
    "Yellow=Degree 4\n",
    "\n",
    "Degree 2 is picked for best performance against linear model. Error penalty value of 8 is picked for best performance."
   ]
  },
  {
   "cell_type": "code",
   "execution_count": 108,
   "metadata": {},
   "outputs": [
    {
     "name": "stdout",
     "output_type": "stream",
     "text": [
      "Cross validation accuracy is 82.23391959798995\n",
      "Cross validation precision is 85.80057249206222\n",
      "Cross validation recall is 86.8\n"
     ]
    }
   ],
   "source": [
    "poly_svc = SVC(C=8, kernel='poly', degree=2).fit(initial, Y)\n",
    "scores = cross_val_score(poly_svc,initial,Y,fold,'accuracy',10)\n",
    "print ('Cross validation accuracy is', np.mean(scores)*100)\n",
    "scores = cross_val_score(poly_svc,initial,Y,fold,'precision',10)\n",
    "print ('Cross validation precision is', np.mean(scores)*100)\n",
    "scores = cross_val_score(poly_svc,initial,Y,fold,'recall',10)\n",
    "print ('Cross validation recall is', np.mean(scores)*100)"
   ]
  },
  {
   "cell_type": "markdown",
   "metadata": {},
   "source": [
    "There is no reasonable method for evaluation of most predictive features with a Polynomial SVC.\n",
    "\n",
    "Compared with Linear SVC on this data set a polynomial SVC of degree 2 is able to slightly outperform the linear SVC on classification."
   ]
  },
  {
   "cell_type": "code",
   "execution_count": 109,
   "metadata": {},
   "outputs": [],
   "source": [
    "df=pd.read_csv('communities-crime-full.csv')\n",
    "df['highCrime'] = np.where(df['ViolentCrimesPerPop']>0.1, 1, 0)\n",
    "Y = df['highCrime']\n",
    "fold=df['fold']"
   ]
  },
  {
   "cell_type": "code",
   "execution_count": 110,
   "metadata": {},
   "outputs": [
    {
     "data": {
      "image/png": "[encoded data removed]",
      "text/plain": [
       "<matplotlib.figure.Figure at 0x269717e8898>"
      ]
     },
     "metadata": {},
     "output_type": "display_data"
    }
   ],
   "source": [
    "x=[]\n",
    "y=[]\n",
    "for k in range (1,5):\n",
    "    y.append([])\n",
    "for i in range (0,4):\n",
    "    for j in range (1,5):\n",
    "        poly_svc = SVC(C=2**i, kernel='poly', degree=j).fit(New_data, Y)\n",
    "        scores = cross_val_score(poly_svc,New_data,Y,fold,'accuracy',10)\n",
    "        y[j-1].append(np.mean(scores))\n",
    "    x.append(2**i)    \n",
    "\n",
    "plt.plot(x,y[0],'r-',\n",
    "         x,y[1],'g-',\n",
    "         x,y[2],'b-',\n",
    "         x,y[3],'y-')\n",
    "plt.show()"
   ]
  },
  {
   "cell_type": "markdown",
   "metadata": {},
   "source": [
    "<ul>\n",
    "<li>X-axis is error penalty (C) term</li>\n",
    "<li>Y-axis is accuracy<ul>\n",
    "<li>Red=Degree 1</li>\n",
    "<li>Green=Degree 2</li>\n",
    "<li>Blue=Degree 3</li>\n",
    "<li>Yellow=Degree 4</li>\n",
    "</ul></li>\n",
    "</ul>\n",
    "\n",
    "Degree 2 is picked for best performance against linear model. Error penalty value of 4 is picked for best performance before significantly diminishing returns."
   ]
  },
  {
   "cell_type": "code",
   "execution_count": 111,
   "metadata": {},
   "outputs": [
    {
     "name": "stdout",
     "output_type": "stream",
     "text": [
      "Cross validation accuracy is 82.04564114102851\n",
      "Cross validation precision is 84.11920728369505\n",
      "Cross validation recall is 88.08888888888889\n"
     ]
    }
   ],
   "source": [
    "poly_svc = SVC(C=4, kernel='poly', degree=2).fit(New_data, Y)\n",
    "scores = cross_val_score(poly_svc,New_data,Y,fold,'accuracy',10)\n",
    "print ('Cross validation accuracy is', np.mean(scores)*100)\n",
    "scores = cross_val_score(poly_svc,New_data,Y,fold,'precision',10)\n",
    "print ('Cross validation precision is', np.mean(scores)*100)\n",
    "scores = cross_val_score(poly_svc,New_data,Y,fold,'recall',10)\n",
    "print ('Cross validation recall is', np.mean(scores)*100)"
   ]
  },
  {
   "cell_type": "markdown",
   "metadata": {},
   "source": [
    "There is no reasonable method for evaluation of most predictive features with a Polynomial SVC.\n",
    "\n",
    "The polynomial SVC is fairly resilient to the missing data in the dirty data set losing very little accuracy and precision and gaining recall. However the plotting output indicates that a linear SVC would likely outperform the polynomial SVC on the dirty data."
   ]
  },
  {
   "cell_type": "markdown",
   "metadata": {},
   "source": [
    "# New Threshold"
   ]
  },
  {
   "cell_type": "code",
   "execution_count": 112,
   "metadata": {},
   "outputs": [
    {
     "name": "stdout",
     "output_type": "stream",
     "text": [
      "average is  0.23798294029101857\n",
      "Q1(25%) is  0.07\n",
      "median is  0.15\n",
      "Q3(75%) is  0.33\n",
      "average between Q3 and Q1 is  0.2\n"
     ]
    },
    {
     "data": {
      "image/png": "[encoded data removed]",
      "text/plain": [
       "<matplotlib.figure.Figure at 0x269022b2278>"
      ]
     },
     "metadata": {},
     "output_type": "display_data"
    },
    {
     "data": {
      "image/png": "[encoded data removed]",
      "text/plain": [
       "<matplotlib.figure.Figure at 0x2690239cf60>"
      ]
     },
     "metadata": {},
     "output_type": "display_data"
    }
   ],
   "source": [
    "df=pd.read_csv('communities-crime-clean.csv')\n",
    "# df.describe()\n",
    "df['ViolentCrimesPerPop'].plot.hist()\n",
    "print('average is ',np.average(df['ViolentCrimesPerPop']))\n",
    "Q1, median, Q3 = np.percentile(df['ViolentCrimesPerPop'], [25, 50, 75])\n",
    "print(\"Q1(25%) is \",Q1)\n",
    "print(\"median is \",median)\n",
    "print(\"Q3(75%) is \",Q3)\n",
    "print(\"average between Q3 and Q1 is \",(Q3+Q1)/2)\n",
    "plt.show()\n",
    "plt.boxplot(df['ViolentCrimesPerPop'])\n",
    "plt.show()"
   ]
  },
  {
   "cell_type": "markdown",
   "metadata": {},
   "source": [
    "According to histogram and boxplot, we can know how \"ViolentCrimesPerPop\" distributes in the dataset. And there are lots of outliers following in second part of the dataset, so mean(0.2379) is not suitable to be a threshold.\n",
    "Then, based on quartile deviation method to retrive Q1, median and Q3, median is different with average between Q1 and Q3. Since the problem of outlier is removed from distance from Q1 to Q3, average between Q1 and Q3 is more suitable than median to be a new threshold. Therefore, 0.2, average between Q1 and Q3, is the most useful threshold."
   ]
  },
  {
   "cell_type": "markdown",
   "metadata": {},
   "source": [
    "# New Threshold in DecisionTree"
   ]
  },
  {
   "cell_type": "code",
   "execution_count": 113,
   "metadata": {},
   "outputs": [
    {
     "name": "stdout",
     "output_type": "stream",
     "text": [
      "cross_val_accuracy is  [0.785      0.805      0.775      0.785      0.805      0.82\n",
      " 0.79396985 0.84422111 0.85353535 0.79292929]\n",
      "Cross validation accuracy is 80.59655601238515\n",
      "Cross validation precision is 77.03562790718922\n",
      "Cross validation recall is 74.69753086419753\n"
     ]
    }
   ],
   "source": [
    "df=pd.read_csv('communities-crime-full.csv')\n",
    "df\n",
    "df['highCrime'] = np.where(df['ViolentCrimesPerPop']>0.2, 1, 0)\n",
    "Y = df['highCrime']\n",
    "clf = tree.DecisionTreeClassifier(max_depth=3)\n",
    "# clf = tree.DecisionTreeClassifier()\n",
    "clf = clf.fit(New_data, Y)\n",
    "clf\n",
    "fold=df['fold']\n",
    "scores = cross_val_score(clf, New_data, Y,fold,'accuracy',10)\n",
    "print('cross_val_accuracy is ',scores) \n",
    "\n",
    "print ('Cross validation accuracy is', np.mean(scores)*100)\n",
    "scores = cross_val_score(clf,New_data,Y,fold,'precision',10)\n",
    "print ('Cross validation precision is', np.mean(scores)*100)\n",
    "scores = cross_val_score(clf,New_data,Y,fold,'recall',10)\n",
    "print ('Cross validation recall is', np.mean(scores)*100)\n"
   ]
  },
  {
   "cell_type": "code",
   "execution_count": 114,
   "metadata": {},
   "outputs": [
    {
     "data": {
      "image/png": "[encoded data removed]",
      "text/plain": [
       "<matplotlib.figure.Figure at 0x269023c7128>"
      ]
     },
     "metadata": {},
     "output_type": "display_data"
    },
    {
     "name": "stdout",
     "output_type": "stream",
     "text": [
      "y is  [0.8195286533678493, 0.8089831988223948, 0.8059655601238516, 0.8144755849956855, 0.8219805847418913, 0.8149881985686006, 0.8079630221816151, 0.8019680726866657, 0.7959301812090758, 0.7954503578498553, 0.791420105578397, 0.7813697528044261, 0.7823899040657835, 0.7844327952895792, 0.7798899294452059]\n"
     ]
    }
   ],
   "source": [
    "import matplotlib.pyplot as plt\n",
    "y=[]\n",
    "x=[]\n",
    "for i in range (1,16):\n",
    "    clf = tree.DecisionTreeClassifier(max_depth=i)\n",
    "    clf = clf.fit(New_data, Y)\n",
    "    y_pred = clf.predict(New_data)\n",
    "    scores = cross_val_score(clf, New_data, Y,None,'accuracy',cv=10,n_jobs = -1)\n",
    "    y.append(np.array(scores).mean())\n",
    "    x.append(i)\n",
    "\n",
    "    \n",
    "plt.plot(x, y)\n",
    "\n",
    "plt.show()\n",
    "print('y is ',y)"
   ]
  },
  {
   "cell_type": "code",
   "execution_count": 115,
   "metadata": {},
   "outputs": [],
   "source": [
    "classname=['High','Low']\n",
    "clf = tree.DecisionTreeClassifier(max_depth=3)\n",
    "\n",
    "clf = clf.fit(New_data, Y)\n"
   ]
  },
  {
   "cell_type": "code",
   "execution_count": 116,
   "metadata": {},
   "outputs": [
    {
     "data": {
      "text/plain": [
       "DecisionTreeClassifier(class_weight=None, criterion='gini', max_depth=3,\n",
       "            max_features=None, max_leaf_nodes=None,\n",
       "            min_impurity_decrease=0.0, min_impurity_split=None,\n",
       "            min_samples_leaf=1, min_samples_split=2,\n",
       "            min_weight_fraction_leaf=0.0, presort=False, random_state=None,\n",
       "            splitter='best')"
      ]
     },
     "execution_count": 116,
     "metadata": {},
     "output_type": "execute_result"
    }
   ],
   "source": [
    "df=pd.read_csv('communities-crime-clean.csv')\n",
    "df\n",
    "df['highCrime'] = np.where(df['ViolentCrimesPerPop']>0.2, 1, 0)\n",
    "Y = df['highCrime']\n",
    "\n",
    "\n",
    "clf = tree.DecisionTreeClassifier(max_depth=3)\n",
    "\n",
    "clf = clf.fit(initial, Y)\n",
    "clf\n"
   ]
  },
  {
   "cell_type": "code",
   "execution_count": 117,
   "metadata": {},
   "outputs": [
    {
     "name": "stdout",
     "output_type": "stream",
     "text": [
      "cross_val_accuracy is  [0.745      0.815      0.78       0.805      0.855      0.72864322\n",
      " 0.8040201  0.85929648 0.65151515 0.78282828]\n",
      "Cross validation accuracy is 78.2630323333841\n",
      "Cross validation precision is 76.63953992239708\n",
      "Cross validation recall is 70.5493827160494\n"
     ]
    }
   ],
   "source": [
    "fold=df['fold']\n",
    "scores = cross_val_score(clf, initial, Y,fold,'accuracy',10)\n",
    "print('cross_val_accuracy is ',scores) \n",
    "\n",
    "print ('Cross validation accuracy is', np.mean(scores)*100)\n",
    "scores = cross_val_score(clf,initial,Y,fold,'precision',10)\n",
    "print ('Cross validation precision is', np.mean(scores)*100)\n",
    "scores = cross_val_score(clf,initial,Y,fold,'recall',10)\n",
    "print ('Cross validation recall is', np.mean(scores)*100)\n",
    "\n",
    "# y_pred = clf.predict(initial)\n",
    "# print ('Accuracy is', accuracy_score(Y,y_pred)*100)\n",
    "# from sklearn.metrics import precision_score\n",
    "# print ('Precesion is', precision_score(Y,y_pred)*100)\n",
    "# from sklearn.metrics import recall_score\n",
    "# print ('Recall is', recall_score(Y,y_pred)*100)"
   ]
  },
  {
   "cell_type": "code",
   "execution_count": 118,
   "metadata": {},
   "outputs": [
    {
     "data": {
      "image/png": "[encoded data removed]",
      "text/plain": [
       "<matplotlib.figure.Figure at 0x269027d4588>"
      ]
     },
     "metadata": {},
     "output_type": "display_data"
    },
    {
     "name": "stdout",
     "output_type": "stream",
     "text": [
      "y is  [0.8153219633521142, 0.7916554235825592, 0.782630323333841, 0.79279937566621, 0.7727237703669865, 0.7706834170854272, 0.768668367087965, 0.7596405766204761, 0.7536179127963047, 0.7516078879244708, 0.7451129638089438, 0.742565123597787, 0.7360474595198212, 0.7380449977158519, 0.7375752753667327]\n"
     ]
    }
   ],
   "source": [
    "y=[]\n",
    "x=[]\n",
    "\n",
    "for i in range (1,16):\n",
    "    clf = tree.DecisionTreeClassifier(max_depth=i)\n",
    "    clf = clf.fit(initial, Y)\n",
    "    y_pred = clf.predict(initial)\n",
    "    scores = cross_val_score(clf, initial, Y,None,'accuracy',cv=10)\n",
    "    y.append(np.array(scores).mean())\n",
    "    x.append(i)\n",
    "\n",
    "    \n",
    "plt.plot(x, y)\n",
    "\n",
    "plt.show()\n",
    "print('y is ',y)"
   ]
  },
  {
   "cell_type": "markdown",
   "metadata": {},
   "source": [
    "Using the new threshold a single feature PctIlleg becomes highly predictive of the dataset, but the rest of the possible features to split on lose their effectiveness as linear separators. As such the most effective Decision Tree with the new threshold is depth 1. It would seem that Decision Tree on this dataset greatly benefits from taking a more informed approach to deciding a threshold."
   ]
  },
  {
   "cell_type": "markdown",
   "metadata": {},
   "source": [
    "# New Threshold in Naive Bayes Gaussian"
   ]
  },
  {
   "cell_type": "code",
   "execution_count": 119,
   "metadata": {},
   "outputs": [
    {
     "name": "stdout",
     "output_type": "stream",
     "text": [
      "mislabel num is  352\n",
      "normalized_feature is  [0.33306076 0.03258098 0.57607554 0.72301674 0.04198184 0.35978937\n",
      " 0.05081276 0.1491096  0.09012258 0.07690147 0.31722709 0.02102557\n",
      " 0.50499798 0.32275839 0.10399085 0.68789992 0.12525604 0.63770018\n",
      " 0.08482528 0.52115517 0.39921489 0.24898057 0.33249932 0.11958945\n",
      " 0.18131628 0.1593845  0.29721696 0.4271772  0.57247427 0.46873416\n",
      " 0.53762178 0.35764455 0.53696231 0.35122208 0.02515546 0.10257724\n",
      " 0.31749042 0.37536845 0.57546639 0.2216214  0.65369163 0.63466832\n",
      " 0.12098212 0.77237886 0.84288241 0.71696935 0.66301396 0.04048604\n",
      " 0.17378054 0.41761193 0.78896678 0.26418494 0.1721343  0.22136547\n",
      " 0.25550443 0.30076635 0.22549075 0.24285105 0.24483414 0.25357801\n",
      " 0.26564133 0.32422931 0.37334747 0.29009904 0.029548   0.13965855\n",
      " 0.28580806 0.58538383 0.50490824 0.52004923 0.37863295 0.38278532\n",
      " 0.32275872 0.49473664 0.41475204 0.00776573 0.07533747 0.54894892\n",
      " 0.33590694 0.22200447 0.19982129 0.17949289 0.26929275 0.26607002\n",
      " 0.25915258 0.27192261 0.31631812 0.06354522 0.00477544 0.3058693\n",
      " 0.28550505 0.18870544 0.07895563 0.20978568 0.03719001 0.03833281\n",
      " 0.17172126 0.20808489 0.05305622 0.32220227]\n",
      "ind is  [41 17 40 46 15 45 50  3 43 44]\n",
      "10_max_normalized_feature is  [0.63466832 0.63770018 0.65369163 0.66301396 0.68789992 0.71696935\n",
      " 0.78896678 0.72301674 0.77237886 0.84288241]\n",
      "41\n",
      "feature_name[index] is  TotalPctDiv\n",
      "17\n",
      "feature_name[index] is  pctWPubAsst\n",
      "40\n",
      "feature_name[index] is  FemalePctDiv\n",
      "46\n",
      "feature_name[index] is  PctTeen2Par\n",
      "15\n",
      "feature_name[index] is  pctWInvInc\n",
      "45\n",
      "feature_name[index] is  PctYoungKids2Par\n",
      "50\n",
      "feature_name[index] is  PctIlleg\n",
      "3\n",
      "feature_name[index] is  racePctWhite\n",
      "43\n",
      "feature_name[index] is  PctFam2Par\n",
      "44\n",
      "feature_name[index] is  PctKids2Par\n",
      "cross_val_accuracy is  80.02363839399015\n",
      "cross_val_precision is  78.65781558186524\n",
      "cross_val_recall is  71.04938271604938\n"
     ]
    }
   ],
   "source": [
    "gnb = GaussianNB()\n",
    "y_pred = gnb.fit(initial, Y).predict(initial)\n",
    "\n",
    "print(\"mislabel num is \",(Y != y_pred).sum())\n",
    "\n",
    "# print ('sigma is ',gnb.sigma_)\n",
    "variance=gnb.sigma_\n",
    "stand_deviation =np.sqrt( variance)\n",
    "# print('standard deviation is',stand_deviation);\n",
    "sum_standard=stand_deviation[0]+stand_deviation[1]\n",
    "# print('sum of standard deviation is',sum_standard);\n",
    "\n",
    "# print ('theta is ',gnb.theta_)\n",
    "mean=gnb.theta_\n",
    "difference=mean[0]-mean[1]\n",
    "# print('difference is ',abs(difference))\n",
    "normalized_feature=abs(difference)/sum_standard\n",
    "print('normalized_feature is ',normalized_feature)\n",
    "\n",
    "\n",
    "ind = np.argpartition(normalized_feature, -10)[-10:]\n",
    "\n",
    "print('ind is ',ind)\n",
    "print('10_max_normalized_feature is ',normalized_feature[ind])\n",
    "\n",
    "for x in range(0, len(ind)):\n",
    "    index=ind[x]\n",
    "    print(index)\n",
    "    print('feature_name[index] is ',feature_name[index])\n",
    "\n",
    "\n",
    "\n",
    "\n",
    "\n",
    "from sklearn.model_selection import cross_val_score\n",
    "fold=df['fold']\n",
    "scores = cross_val_score(gnb, initial, Y,fold,'accuracy',10)\n",
    "print('cross_val_accuracy is ',np.mean(scores)*100) \n",
    "scores = cross_val_score(gnb, initial, Y,fold,'precision',10)\n",
    "print('cross_val_precision is ',np.mean(scores)*100) \n",
    "scores = cross_val_score(gnb, initial, Y,fold,'recall',10)\n",
    "print('cross_val_recall is ',np.mean(scores)*100) "
   ]
  },
  {
   "cell_type": "markdown",
   "metadata": {},
   "source": [
    "For Naive Bayes performance improves relative to the negative class, but drops relative to the positive class with the new threshold. The most predictive feature has stayed the same, PctIlleg. This can be explained by the fact that the change in threshold is relatively small, meaning the distribution of the true and false classes was minimally changed."
   ]
  },
  {
   "cell_type": "code",
   "execution_count": 120,
   "metadata": {},
   "outputs": [
    {
     "name": "stdout",
     "output_type": "stream",
     "text": [
      "mislabel num is  433\n",
      "normalized_feature is  [0.33274269 0.03287805 0.57704633 0.72386798 0.04153745 0.35920958\n",
      " 0.05085409 0.14858366 0.08981515 0.07740031 0.31675301 0.0200312\n",
      " 0.5055121  0.32354202 0.10375662 0.68832887 0.12581775 0.63850066\n",
      " 0.08474548 0.52167001 0.39959873 0.24903205 0.33286641 0.12001192\n",
      " 0.18105687 0.15930465 0.29580373 0.42703688 0.57319478 0.46921976\n",
      " 0.53793289 0.35770605 0.53779681 0.35200369 0.02540681 0.1021982\n",
      " 0.31726384 0.37483834 0.57581793 0.22154289 0.65395151 0.63499371\n",
      " 0.1209443  0.77307217 0.84355664 0.7176549  0.66376979 0.040136\n",
      " 0.1738027  0.41755548 0.78979398 0.26386201 0.17174017 0.22053971\n",
      " 0.25428553 0.29914528 0.22489731 0.2422117  0.24418607 0.25292452\n",
      " 0.26491873 0.32366511 0.37324073 0.28994221 0.02975956 0.14011086\n",
      " 0.28591501 0.58523484 0.50463683 0.51953768 0.37782316 0.38253558\n",
      " 0.3232456  0.49444454 0.41492867 0.00694628 0.07560749 0.54940092\n",
      " 0.3366176  0.2224585  0.20026634 0.1799043  0.27004056 0.26678122\n",
      " 0.25976563 0.2725392  0.31659364 0.06348605 0.0036156  0.30557408\n",
      " 0.28526692 0.18802784 0.07818792 0.20897814 0.03780238 0.03793801\n",
      " 0.08299957 0.00568712 0.07997473 0.00846305 0.08778019 0.0594748\n",
      " 0.05154299 0.00572539 0.09659065 0.12639754 0.13300739 0.08331962\n",
      " 0.01847506 0.14980505 0.0849018  0.02588542 0.03252549 0.17151579\n",
      " 0.20762746 0.05273112 0.1076328  0.08065815 0.02012642 0.04079809\n",
      " 0.32180019 0.0090319 ]\n",
      "ind is  [41 17 45 46 50 15  3 44 40 43]\n",
      "10_max_normalized_feature is  [0.63499371 0.63850066 0.7176549  0.66376979 0.78979398 0.68832887\n",
      " 0.72386798 0.84355664 0.65395151 0.77307217]\n",
      "41\n",
      "feature_name[index] is  TotalPctDiv\n",
      "17\n",
      "feature_name[index] is  pctWPubAsst\n",
      "45\n",
      "feature_name[index] is  PctYoungKids2Par\n",
      "46\n",
      "feature_name[index] is  PctTeen2Par\n",
      "50\n",
      "feature_name[index] is  PctIlleg\n",
      "15\n",
      "feature_name[index] is  pctWInvInc\n",
      "3\n",
      "feature_name[index] is  racePctWhite\n",
      "44\n",
      "feature_name[index] is  PctKids2Par\n",
      "40\n",
      "feature_name[index] is  FemalePctDiv\n",
      "43\n",
      "feature_name[index] is  PctFam2Par\n",
      "cross_val_accuracy is  77.9804197756459\n",
      "cross_val_precision is  80.36034950741211\n",
      "cross_val_recall is  60.163580246913575\n"
     ]
    }
   ],
   "source": [
    "df=pd.read_csv('communities-crime-full.csv')\n",
    "df\n",
    "df['highCrime'] = np.where(df['ViolentCrimesPerPop']>0.2, 1, 0)\n",
    "Y = df['highCrime']\n",
    "gnb = GaussianNB()\n",
    "y_pred = gnb.fit(New_data, Y).predict(New_data)\n",
    "\n",
    "print(\"mislabel num is \",(Y != y_pred).sum())\n",
    "\n",
    "# print ('sigma is ',gnb.sigma_)\n",
    "variance=gnb.sigma_\n",
    "stand_deviation =np.sqrt( variance)\n",
    "# print('standard deviation is',stand_deviation);\n",
    "sum_standard=stand_deviation[0]+stand_deviation[1]\n",
    "# print('sum of standard deviation is',sum_standard);\n",
    "\n",
    "# print ('theta is ',gnb.theta_)\n",
    "mean=gnb.theta_\n",
    "difference=mean[0]-mean[1]\n",
    "# print('difference is ',abs(difference))\n",
    "normalized_feature=abs(difference)/sum_standard\n",
    "print('normalized_feature is ',normalized_feature)\n",
    "\n",
    "\n",
    "ind = np.argpartition(normalized_feature, -10)[-10:]\n",
    "\n",
    "print('ind is ',ind)\n",
    "print('10_max_normalized_feature is ',normalized_feature[ind])\n",
    "\n",
    "for x in range(0, len(ind)):\n",
    "    index=ind[x]\n",
    "    print(index)\n",
    "    print('feature_name[index] is ',feature_name[index])\n",
    "\n",
    "\n",
    "fold=df['fold']\n",
    "scores = cross_val_score(gnb, New_data, Y,fold,'accuracy',10)\n",
    "print('cross_val_accuracy is ',np.mean(scores)*100) \n",
    "scores = cross_val_score(gnb, New_data, Y,fold,'precision',10)\n",
    "print('cross_val_precision is ',np.mean(scores)*100) \n",
    "scores = cross_val_score(gnb, New_data, Y,fold,'recall',10)\n",
    "print('cross_val_recall is ',np.mean(scores)*100) "
   ]
  },
  {
   "cell_type": "markdown",
   "metadata": {},
   "source": [
    "Compared with the clean dataset Naive Bayes performs quite badly, this is likely because the replacement of missing data moves the variance and mean of the two classes much closer together."
   ]
  },
  {
   "cell_type": "markdown",
   "metadata": {},
   "source": [
    "# New Threshold in LinearSVC"
   ]
  },
  {
   "cell_type": "code",
   "execution_count": 121,
   "metadata": {},
   "outputs": [
    {
     "name": "stdout",
     "output_type": "stream",
     "text": [
      "select_feature_is  racePctWhite  feature_weight_is  0.6168192441506017\n",
      "select_feature_is  racePctHisp  feature_weight_is  0.15399168306283442\n",
      "select_feature_is  pctUrban  feature_weight_is  0.0034006557825676047\n",
      "select_feature_is  pctWPubAsst  feature_weight_is  0.18931234737828084\n",
      "select_feature_is  TotalPctDiv  feature_weight_is  0.6955513868485368\n",
      "select_feature_is  PctKids2Par  feature_weight_is  0.6008345763788308\n",
      "select_feature_is  PctIlleg  feature_weight_is  0.911034440359449\n",
      "select_feature_is  PctPersDenseHous  feature_weight_is  0.22549816159074446\n",
      "select_feature_is  PctHousOccup  feature_weight_is  0.09302630082520705\n",
      "select_feature_is  PctHousNoPhone  feature_weight_is  0.06284690375922342\n",
      "select_feature_is  LemasPctOfficDrugUn  feature_weight_is  0.15344778733927028\n",
      "cross_val_accuracy is  [0.785      0.845      0.8        0.815      0.85       0.72864322\n",
      " 0.84924623 0.84422111 0.77272727 0.84343434]  average  81.33272168925436\n",
      "cross_val_precision is  [0.7375     0.94642857 0.83606557 0.89285714 0.9047619  0.74074074\n",
      " 0.8125     0.90163934 0.72151899 0.88888889]  average  83.82901154051808\n",
      "cross_val_recall is  [0.72839506 0.65432099 0.62962963 0.61728395 0.7037037  0.5\n",
      " 0.8125     0.6875     0.7125     0.7       ]  average  67.45833333333334\n"
     ]
    }
   ],
   "source": [
    "df=pd.read_csv('communities-crime-clean.csv')\n",
    "df['highCrime'] = np.where(df['ViolentCrimesPerPop']>0.2, 1, 0)\n",
    "Y = df['highCrime']\n",
    "lin_svc = svm.LinearSVC(C=0.014, penalty=\"l1\", dual=False).fit(initial, Y)\n",
    "# using L1-norm (sparsity method) to make unless feature weight become 0 , C value increase->more complex model having more weight\n",
    "feature_weight=abs(lin_svc.coef_[0])\n",
    "for i in range(0,len(feature_weight)):\n",
    "    if(feature_weight[i]!=0):\n",
    "        print('select_feature_is ',feature_name[i],' feature_weight_is ',feature_weight[i])\n",
    "\n",
    "\n",
    "\n",
    "from sklearn.model_selection import cross_val_score\n",
    "fold=df['fold']\n",
    "scores = cross_val_score(lin_svc, initial, Y,fold,'accuracy',10)\n",
    "print('cross_val_accuracy is ',scores,' average ',np.mean(scores)*100) \n",
    "scores = cross_val_score(lin_svc, initial, Y,fold,'precision',10)\n",
    "print('cross_val_precision is ',scores,' average ',np.mean(scores)*100) \n",
    "scores = cross_val_score(lin_svc, initial, Y,fold,'recall',10)\n",
    "print('cross_val_recall is ',scores,' average ',np.mean(scores)*100) "
   ]
  },
  {
   "cell_type": "markdown",
   "metadata": {},
   "source": [
    "For LinearSVC the performance drops compared with same model against the previous threshold. This model does not seem to benefit from our approach to determining a relevant threshold. Interestingly it has the same most predictive feature as the DecisionTree with the new threshold."
   ]
  },
  {
   "cell_type": "code",
   "execution_count": 122,
   "metadata": {},
   "outputs": [
    {
     "name": "stdout",
     "output_type": "stream",
     "text": [
      "select_feature_is  racePctWhite  feature_weight_is  0.6139386858592882\n",
      "select_feature_is  racePctHisp  feature_weight_is  0.1534836845304668\n",
      "select_feature_is  pctUrban  feature_weight_is  0.003453482431626206\n",
      "select_feature_is  pctWPubAsst  feature_weight_is  0.1880334014603944\n",
      "select_feature_is  TotalPctDiv  feature_weight_is  0.6943043878362729\n",
      "select_feature_is  PctKids2Par  feature_weight_is  0.6041410578344899\n",
      "select_feature_is  PctIlleg  feature_weight_is  0.9113987638443939\n",
      "select_feature_is  PctPersDenseHous  feature_weight_is  0.22779515998670677\n",
      "select_feature_is  PctHousOccup  feature_weight_is  0.09252757355275136\n",
      "select_feature_is  PctHousNoPhone  feature_weight_is  0.0629481341805841\n",
      "select_feature_is  LemasPctOfficDrugUn  feature_weight_is  0.1534039678273503\n",
      "cross_val_accuracy is  [0.79       0.8        0.845      0.805      0.835      0.805\n",
      " 0.84422111 0.81909548 0.87373737 0.84848485]  average  82.65538805136796\n",
      "cross_val_precision is  [0.83050847 0.78873239 0.82894737 0.78378378 0.9        0.83870968\n",
      " 0.87692308 0.82352941 0.91044776 0.85714286]  average  84.38724805591329\n",
      "cross_val_recall is  [0.60493827 0.69135802 0.77777778 0.71604938 0.66666667 0.64197531\n",
      " 0.7125     0.7        0.7625     0.75      ]  average  70.23765432098766\n"
     ]
    }
   ],
   "source": [
    "df=pd.read_csv('communities-crime-full.csv')\n",
    "df['highCrime'] = np.where(df['ViolentCrimesPerPop']>0.2, 1, 0)\n",
    "Y = df['highCrime']\n",
    "fold=df['fold']\n",
    "feature_name=list(New_data)\n",
    "lin_svc = svm.LinearSVC(C=0.014, penalty=\"l1\", dual=False).fit(New_data, Y)\n",
    "# using L1-norm (sparsity method) to make unless feature weight become 0 , C value increase->more complex model having more weight\n",
    "feature_weight=abs(lin_svc.coef_[0])\n",
    "for i in range(0,len(feature_weight)):\n",
    "    if(feature_weight[i]!=0):\n",
    "        print('select_feature_is ',feature_name[i],' feature_weight_is ',feature_weight[i])\n",
    "\n",
    "\n",
    "\n",
    "from sklearn.model_selection import cross_val_score\n",
    "fold=df['fold']\n",
    "scores = cross_val_score(lin_svc, New_data, Y,fold,'accuracy',10)\n",
    "print('cross_val_accuracy is ',scores,' average ',np.mean(scores)*100) \n",
    "scores = cross_val_score(lin_svc, New_data, Y,fold,'precision',10)\n",
    "print('cross_val_precision is ',scores,' average ',np.mean(scores)*100) \n",
    "scores = cross_val_score(lin_svc, New_data, Y,fold,'recall',10)\n",
    "print('cross_val_recall is ',scores,' average ',np.mean(scores)*100) "
   ]
  },
  {
   "cell_type": "markdown",
   "metadata": {},
   "source": [
    "Compared with the clean dataset on the new threshold the most predictive features remain constant but the additional dimensions of the features with missing data appears to improve accuracy, precision and recall but is still worse than the original threshold linear SVM on clean data."
   ]
  },
  {
   "cell_type": "markdown",
   "metadata": {},
   "source": [
    "# Extra Credit: Decision Forest"
   ]
  },
  {
   "cell_type": "markdown",
   "metadata": {},
   "source": [
    "Decision Forest using a Random Forest algorithm. Nodes are chosen from a the best split of a random subset of the features and the best of a set of random thresholds for those features."
   ]
  },
  {
   "cell_type": "code",
   "execution_count": 123,
   "metadata": {},
   "outputs": [],
   "source": [
    "from sklearn.ensemble import RandomForestClassifier\n",
    "df=pd.read_csv('communities-crime-clean.csv')\n",
    "df['highCrime'] = np.where(df['ViolentCrimesPerPop']>0.1, 1, 0)\n",
    "initial=pd.read_csv('communities-crime-clean.csv')\n",
    "initial = initial.drop('communityname', 1)\n",
    "initial = initial.drop('ViolentCrimesPerPop', 1)\n",
    "initial = initial.drop('fold', 1)\n",
    "\n",
    "initial = initial.drop('state', 1)\n",
    "fold=df['fold']\n",
    "Y = df['highCrime']\n",
    "feature_name=list(initial)\n",
    "clf = RandomForestClassifier(n_estimators=10,max_features='sqrt')\n",
    "clf = clf.fit(initial, Y)\n",
    "# dot_data = tree.export_graphviz(clf, out_file=None, \n",
    "#                          feature_names=list(initial),  \n",
    "#                          class_names='highCrime',  \n",
    "#                          filled=True, rounded=True,  \n",
    "#                          special_characters=True)  \n",
    "# graph = pydotplus.graph_from_dot_data(dot_data)  \n",
    "# Image(graph.create_png())"
   ]
  },
  {
   "cell_type": "code",
   "execution_count": 124,
   "metadata": {},
   "outputs": [
    {
     "name": "stdout",
     "output_type": "stream",
     "text": [
      "feature importance is  [0.00654347 0.00741788 0.01880231 0.0339418  0.00413828 0.0062922\n",
      " 0.00988215 0.00555001 0.00505746 0.00961411 0.00316469 0.00145366\n",
      " 0.00216881 0.00954572 0.00563568 0.03771079 0.0038542  0.00319588\n",
      " 0.00534197 0.01894388 0.00327577 0.00436526 0.00575737 0.00470339\n",
      " 0.00773064 0.00941753 0.00585398 0.02736196 0.00675175 0.00559689\n",
      " 0.00481978 0.00547151 0.01216827 0.0049338  0.00556063 0.00484678\n",
      " 0.00494179 0.00257516 0.00834604 0.00811233 0.04582062 0.04702182\n",
      " 0.00324627 0.0591919  0.03200379 0.01125676 0.01672563 0.00495196\n",
      " 0.00553554 0.04762766 0.05046853 0.00593063 0.00526235 0.00595671\n",
      " 0.00722859 0.00460133 0.00562002 0.00262971 0.00554722 0.00336485\n",
      " 0.00982312 0.00757828 0.00478986 0.00848813 0.0034986  0.00699622\n",
      " 0.00733636 0.05104538 0.02561569 0.00690371 0.00145626 0.01011658\n",
      " 0.01115991 0.00180426 0.00406727 0.00625525 0.00578268 0.00728572\n",
      " 0.00816356 0.00250348 0.003113   0.00571399 0.00750565 0.00477537\n",
      " 0.0071857  0.00484614 0.00885218 0.00456905 0.00726808 0.00222775\n",
      " 0.00129262 0.00276228 0.00638624 0.00458589 0.00631124 0.00455586\n",
      " 0.00402475 0.00651455 0.00412205 0.00187977]\n",
      "length feature array 100\n",
      "index is  population\n",
      "index is  householdsize\n",
      "index is  racepctblack\n",
      "index is  racePctWhite\n",
      "index is  racePctAsian\n",
      "index is  racePctHisp\n",
      "index is  agePct12t21\n",
      "index is  agePct12t29\n",
      "index is  agePct16t24\n",
      "index is  agePct65up\n",
      "index is  numbUrban\n",
      "index is  pctUrban\n",
      "index is  medIncome\n",
      "index is  pctWWage\n",
      "index is  pctWFarmSelf\n",
      "index is  pctWInvInc\n",
      "index is  pctWSocSec\n",
      "index is  pctWPubAsst\n",
      "index is  pctWRetire\n",
      "index is  medFamInc\n",
      "index is  perCapInc\n",
      "index is  whitePerCap\n",
      "index is  blackPerCap\n",
      "index is  indianPerCap\n",
      "index is  AsianPerCap\n",
      "index is  OtherPerCap\n",
      "index is  HispPerCap\n",
      "index is  NumUnderPov\n",
      "index is  PctPopUnderPov\n",
      "index is  PctLess9thGrade\n",
      "index is  PctNotHSGrad\n",
      "index is  PctBSorMore\n",
      "index is  PctUnemployed\n",
      "index is  PctEmploy\n",
      "index is  PctEmplManu\n",
      "index is  PctEmplProfServ\n",
      "index is  PctOccupManu\n",
      "index is  PctOccupMgmtProf\n",
      "index is  MalePctDivorce\n",
      "index is  MalePctNevMarr\n",
      "index is  FemalePctDiv\n",
      "index is  TotalPctDiv\n",
      "index is  PersPerFam\n",
      "index is  PctFam2Par\n",
      "index is  PctKids2Par\n",
      "index is  PctYoungKids2Par\n",
      "index is  PctTeen2Par\n",
      "index is  PctWorkMomYoungKids\n",
      "index is  PctWorkMom\n",
      "index is  NumIlleg\n",
      "index is  PctIlleg\n",
      "index is  NumImmig\n",
      "index is  PctImmigRecent\n",
      "index is  PctImmigRec5\n",
      "index is  PctImmigRec8\n",
      "index is  PctImmigRec10\n",
      "index is  PctRecentImmig\n",
      "index is  PctRecImmig5\n",
      "index is  PctRecImmig8\n",
      "index is  PctRecImmig10\n",
      "index is  PctSpeakEnglOnly\n",
      "index is  PctNotSpeakEnglWell\n",
      "index is  PctLargHouseFam\n",
      "index is  PctLargHouseOccup\n",
      "index is  PersPerOccupHous\n",
      "index is  PersPerOwnOccHous\n",
      "index is  PersPerRentOccHous\n",
      "index is  PctPersOwnOccup\n",
      "index is  PctPersDenseHous\n",
      "index is  PctHousLess3BR\n",
      "index is  MedNumBR\n",
      "index is  HousVacant\n",
      "index is  PctHousOccup\n",
      "index is  PctHousOwnOcc\n",
      "index is  PctVacantBoarded\n",
      "index is  PctVacMore6Mos\n",
      "index is  MedYrHousBuilt\n",
      "index is  PctHousNoPhone\n",
      "index is  PctWOFullPlumb\n",
      "index is  OwnOccLowQuart\n",
      "index is  OwnOccMedVal\n",
      "index is  OwnOccHiQuart\n",
      "index is  RentLowQ\n",
      "index is  RentMedian\n",
      "index is  RentHighQ\n",
      "index is  MedRent\n",
      "index is  MedRentPctHousInc\n",
      "index is  MedOwnCostPctInc\n",
      "index is  MedOwnCostPctIncNoMtg\n",
      "index is  NumInShelters\n",
      "index is  NumStreet\n",
      "index is  PctForeignBorn\n",
      "index is  PctBornSameState\n",
      "index is  PctSameHouse85\n",
      "index is  PctSameCity85\n",
      "index is  PctSameState85\n",
      "index is  LandArea\n",
      "index is  PopDens\n",
      "index is  PctUsePubTrans\n",
      "index is  LemasPctOfficDrugUn\n",
      "43\n",
      "coefficient[max] is  PctFam2Par\n"
     ]
    }
   ],
   "source": [
    "y_pred = clf.predict(initial)\n",
    "feature_importance=clf.feature_importances_\n",
    "print(\"feature importance is \",feature_importance)\n",
    "print (\"length feature array\",len(feature_importance))\n",
    "for i in range (0,len(feature_importance)):\n",
    "    if(feature_importance[i]!=0):\n",
    "        print(\"index is \",feature_name[i])\n",
    "\n",
    "index_max = np.argmax(feature_importance)\n",
    "print(index_max)\n",
    "\n",
    "print('coefficient[max] is ',feature_name[index_max])"
   ]
  },
  {
   "cell_type": "code",
   "execution_count": 125,
   "metadata": {},
   "outputs": [
    {
     "name": "stdout",
     "output_type": "stream",
     "text": [
      "fl score is 99.15628766572921\n",
      "Accuracy is 98.94631209232313\n",
      "Precesion is 99.59644874899112\n",
      "Recall is 98.72\n"
     ]
    }
   ],
   "source": [
    "print ('fl score is', f1_score(Y,y_pred,average=\"binary\")*100)\n",
    "print ('Accuracy is', accuracy_score(Y,y_pred)*100)\n",
    "print ('Precesion is', precision_score(Y,y_pred)*100)\n",
    "print ('Recall is', recall_score(Y,y_pred)*100)"
   ]
  },
  {
   "cell_type": "code",
   "execution_count": 126,
   "metadata": {},
   "outputs": [
    {
     "name": "stdout",
     "output_type": "stream",
     "text": [
      "Cross validation accuracy is 78.72010050251255\n",
      "Cross validation precision is 85.42141809834183\n",
      "Cross validation recall is 80.72\n"
     ]
    }
   ],
   "source": [
    "scores = cross_val_score(clf,initial,Y,fold,'accuracy',10)\n",
    "print ('Cross validation accuracy is', np.mean(scores)*100)\n",
    "scores = cross_val_score(clf,initial,Y,fold,'precision',10)\n",
    "print ('Cross validation precision is', np.mean(scores)*100)\n",
    "scores = cross_val_score(clf,initial,Y,fold,'recall',10)\n",
    "print ('Cross validation recall is', np.mean(scores)*100)"
   ]
  },
  {
   "cell_type": "markdown",
   "metadata": {},
   "source": [
    "Performance is relatively consistent with that of the standard Decision Tree. The most predictive feature is the same as Decision Tree, PctKids2Par. Random Decision Forest does not seem to offer much for the increase in complexity of the model."
   ]
  }
 ],
 "metadata": {
  "kernelspec": {
   "display_name": "Python 3",
   "language": "python",
   "name": "python3"
  },
  "language_info": {
   "codemirror_mode": {
    "name": "ipython",
    "version": 3
   },
   "file_extension": ".py",
   "mimetype": "text/x-python",
   "name": "python",
   "nbconvert_exporter": "python",
   "pygments_lexer": "ipython3",
   "version": "3.6.4"
  }
 },
 "nbformat": 4,
 "nbformat_minor": 2
}
